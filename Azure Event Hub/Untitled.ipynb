{
 "cells": [
  {
   "cell_type": "markdown",
   "metadata": {},
   "source": [
    "# Azure Functions"
   ]
  },
  {
   "cell_type": "markdown",
   "metadata": {},
   "source": [
    "## What are Azure Functions ?"
   ]
  },
  {
   "cell_type": "markdown",
   "metadata": {},
   "source": [
    "- Azure function is a service provided by Azure to run a small piece of code in the cloud.\n",
    "- Functions are executed in a serverless cloud computing manner. The developer needs to code snippet and deploy in the cloud, of course, it runs on the server but the management of the server is not the responsibility of the developer, it is taken care of by Azure.\n",
    "- Functions can be developed in any choice of language like python, java, etc.\n",
    "- Functions also promote code reusability as it doesn’t depend on the application. It is a simple piece of code developed to perform a task."
   ]
  },
  {
   "cell_type": "markdown",
   "metadata": {},
   "source": [
    "## Why Azure Functions ?"
   ]
  },
  {
   "cell_type": "markdown",
   "metadata": {},
   "source": [
    "1. Azure functions are executed in a serverless manner, so the developer doesn’t need to worry about server management.\n",
    "2. It provides as with the combination of IAAS and PAAS services.\n",
    "3. Easy to deploy.\n",
    "4. Supports a variety of programming languages such as C#, Java, Python, NodeJS, etc.\n",
    "5. Functions can be triggered very easily based on any event such as blob container creation, HTTP request, Using Cron, Queue trigger, Webhook trigger, time-based trigger, etc.\n",
    "6. Includes security provided by Azure such as Azure Active Directory. All the features make Azure Functions very popular when it comes to serverless cloud computing."
   ]
  },
  {
   "cell_type": "code",
   "execution_count": null,
   "metadata": {},
   "outputs": [],
   "source": []
  },
  {
   "cell_type": "code",
   "execution_count": null,
   "metadata": {},
   "outputs": [],
   "source": []
  },
  {
   "cell_type": "code",
   "execution_count": null,
   "metadata": {},
   "outputs": [],
   "source": []
  }
 ],
 "metadata": {
  "kernelspec": {
   "display_name": "Python 3",
   "language": "python",
   "name": "python3"
  },
  "language_info": {
   "codemirror_mode": {
    "name": "ipython",
    "version": 3
   },
   "file_extension": ".py",
   "mimetype": "text/x-python",
   "name": "python",
   "nbconvert_exporter": "python",
   "pygments_lexer": "ipython3",
   "version": "3.8.3rc1"
  }
 },
 "nbformat": 4,
 "nbformat_minor": 4
}
