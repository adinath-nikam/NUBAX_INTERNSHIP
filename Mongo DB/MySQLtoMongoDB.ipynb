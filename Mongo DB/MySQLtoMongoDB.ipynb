{
 "cells": [
  {
   "cell_type": "code",
   "execution_count": 1,
   "metadata": {},
   "outputs": [],
   "source": [
    "import pymongo"
   ]
  },
  {
   "cell_type": "code",
   "execution_count": 2,
   "metadata": {},
   "outputs": [
    {
     "data": {
      "text/plain": [
       "pymongo.mongo_client.MongoClient"
      ]
     },
     "execution_count": 2,
     "metadata": {},
     "output_type": "execute_result"
    }
   ],
   "source": [
    "# Establish Connection\n",
    "mongodbConn = pymongo.MongoClient(\"mongodb://localhost:27017\")\n",
    "type(mongodbConn)"
   ]
  },
  {
   "cell_type": "code",
   "execution_count": 3,
   "metadata": {},
   "outputs": [
    {
     "data": {
      "text/plain": [
       "pymongo.database.Database"
      ]
     },
     "execution_count": 3,
     "metadata": {},
     "output_type": "execute_result"
    }
   ],
   "source": [
    "# Create Database\n",
    "mongoDB = mongodbConn[\"TempDB\"]\n",
    "type(mongoDB)"
   ]
  },
  {
   "cell_type": "code",
   "execution_count": 4,
   "metadata": {},
   "outputs": [
    {
     "data": {
      "text/plain": [
       "['TempDB', 'admin', 'config', 'local']"
      ]
     },
     "execution_count": 4,
     "metadata": {},
     "output_type": "execute_result"
    }
   ],
   "source": [
    "# List Databases\n",
    "mongodbConn.list_database_names()"
   ]
  },
  {
   "cell_type": "code",
   "execution_count": 5,
   "metadata": {},
   "outputs": [
    {
     "data": {
      "text/plain": [
       "pymongo.collection.Collection"
      ]
     },
     "execution_count": 5,
     "metadata": {},
     "output_type": "execute_result"
    }
   ],
   "source": [
    "# Collection == Table\n",
    "mongoCollection = mongoDB[\"TempCollection\"]\n",
    "type(mongoCollection)"
   ]
  },
  {
   "cell_type": "code",
   "execution_count": 6,
   "metadata": {},
   "outputs": [],
   "source": [
    "# List COllections\n",
    "mongoDB.list_collection_names();"
   ]
  },
  {
   "cell_type": "code",
   "execution_count": 7,
   "metadata": {},
   "outputs": [
    {
     "data": {
      "text/plain": [
       "ObjectId('628e1a0f11e0d46a313bcd34')"
      ]
     },
     "execution_count": 7,
     "metadata": {},
     "output_type": "execute_result"
    }
   ],
   "source": [
    "# Insert Single Value\n",
    "collData = { \"id\": \"this_is_id\", \"name\": [\"this_is_value\"]}\n",
    "insertResult = mongoCollection.insert_one(collData)\n",
    "insertResult.inserted_id"
   ]
  },
  {
   "cell_type": "code",
   "execution_count": 8,
   "metadata": {},
   "outputs": [
    {
     "data": {
      "text/plain": [
       "[ObjectId('628e1a1211e0d46a313bcd35'),\n",
       " ObjectId('628e1a1211e0d46a313bcd36'),\n",
       " ObjectId('628e1a1211e0d46a313bcd37')]"
      ]
     },
     "execution_count": 8,
     "metadata": {},
     "output_type": "execute_result"
    }
   ],
   "source": [
    "# Insert Multiple Values\n",
    "collData2 = [\n",
    "    {\"id\": \"this_is_id_1\", \"value\": \"this_is_value_1\"},\n",
    "    {\"id\": \"this_is_id_2\", \"value\": \"this_is_value_2\"},\n",
    "    {\"id\": \"this_is_id_3\", \"value\": \"this_is_value_3\"}\n",
    "]\n",
    "insertResult2 = mongoCollection.insert_many(collData2)\n",
    "insertResult2.inserted_ids"
   ]
  },
  {
   "cell_type": "code",
   "execution_count": 9,
   "metadata": {},
   "outputs": [
    {
     "data": {
      "text/plain": [
       "{'_id': ObjectId('628e1a0f11e0d46a313bcd34'),\n",
       " 'id': 'this_is_id',\n",
       " 'name': ['this_is_value']}"
      ]
     },
     "execution_count": 9,
     "metadata": {},
     "output_type": "execute_result"
    }
   ],
   "source": [
    "# Find Single Value\n",
    "mongoCollection.find_one()"
   ]
  },
  {
   "cell_type": "code",
   "execution_count": 10,
   "metadata": {},
   "outputs": [
    {
     "name": "stdout",
     "output_type": "stream",
     "text": [
      "{'_id': ObjectId('628e1a0f11e0d46a313bcd34'), 'id': 'this_is_id', 'name': ['this_is_value']}\n",
      "{'_id': ObjectId('628e1a1211e0d46a313bcd35'), 'id': 'this_is_id_1', 'value': 'this_is_value_1'}\n",
      "{'_id': ObjectId('628e1a1211e0d46a313bcd36'), 'id': 'this_is_id_2', 'value': 'this_is_value_2'}\n",
      "{'_id': ObjectId('628e1a1211e0d46a313bcd37'), 'id': 'this_is_id_3', 'value': 'this_is_value_3'}\n"
     ]
    }
   ],
   "source": [
    "# Find Multiple Values\n",
    "for i in mongoCollection.find():\n",
    "    print(i)"
   ]
  },
  {
   "cell_type": "code",
   "execution_count": 11,
   "metadata": {},
   "outputs": [
    {
     "name": "stdout",
     "output_type": "stream",
     "text": [
      "{'_id': ObjectId('628e1a0f11e0d46a313bcd34'), 'name': ['this_is_value']}\n",
      "{'_id': ObjectId('628e1a1211e0d46a313bcd35')}\n",
      "{'_id': ObjectId('628e1a1211e0d46a313bcd36')}\n",
      "{'_id': ObjectId('628e1a1211e0d46a313bcd37')}\n"
     ]
    }
   ],
   "source": [
    "# Retrieve Specific Values\n",
    "for x in mongoCollection.find({},{\"name\":1}):\n",
    "  print(x)"
   ]
  },
  {
   "cell_type": "code",
   "execution_count": 12,
   "metadata": {},
   "outputs": [
    {
     "ename": "TypeError",
     "evalue": "unhashable type: 'dict'",
     "output_type": "error",
     "traceback": [
      "\u001b[1;31m---------------------------------------------------------------------------\u001b[0m",
      "\u001b[1;31mTypeError\u001b[0m                                 Traceback (most recent call last)",
      "\u001b[1;32m<ipython-input-12-24d6ab3b967a>\u001b[0m in \u001b[0;36m<module>\u001b[1;34m\u001b[0m\n\u001b[0;32m      2\u001b[0m \u001b[1;33m\u001b[0m\u001b[0m\n\u001b[0;32m      3\u001b[0m \u001b[1;31m# mongoQuery = {\"value\": {\"$gt\": \"s\"}}\u001b[0m\u001b[1;33m\u001b[0m\u001b[1;33m\u001b[0m\u001b[1;33m\u001b[0m\u001b[0m\n\u001b[1;32m----> 4\u001b[1;33m \u001b[0mmongoQuery\u001b[0m \u001b[1;33m=\u001b[0m \u001b[1;33m{\u001b[0m\u001b[1;33m{\u001b[0m\u001b[1;33m}\u001b[0m\u001b[1;33m,\u001b[0m\u001b[1;33m{\u001b[0m\u001b[1;34m\"name\"\u001b[0m\u001b[1;33m:\u001b[0m\u001b[1;36m1\u001b[0m\u001b[1;33m}\u001b[0m\u001b[1;33m}\u001b[0m\u001b[1;33m\u001b[0m\u001b[1;33m\u001b[0m\u001b[0m\n\u001b[0m\u001b[0;32m      5\u001b[0m \u001b[0mdoc\u001b[0m \u001b[1;33m=\u001b[0m \u001b[0mmongoCollection\u001b[0m\u001b[1;33m.\u001b[0m\u001b[0mfind\u001b[0m\u001b[1;33m(\u001b[0m\u001b[0mmongoQuery\u001b[0m\u001b[1;33m)\u001b[0m\u001b[1;33m\u001b[0m\u001b[1;33m\u001b[0m\u001b[0m\n\u001b[0;32m      6\u001b[0m \u001b[1;32mfor\u001b[0m \u001b[0mx\u001b[0m \u001b[1;32min\u001b[0m \u001b[0mdoc\u001b[0m\u001b[1;33m:\u001b[0m\u001b[1;33m\u001b[0m\u001b[1;33m\u001b[0m\u001b[0m\n",
      "\u001b[1;31mTypeError\u001b[0m: unhashable type: 'dict'"
     ]
    }
   ],
   "source": [
    "# Queries\n",
    "\n",
    "# mongoQuery = {\"value\": {\"$gt\": \"s\"}}\n",
    "mongoQuery = {{},{\"name\":1}}\n",
    "doc = mongoCollection.find(mongoQuery)\n",
    "for x in doc:\n",
    "    print(x)"
   ]
  },
  {
   "cell_type": "code",
   "execution_count": 13,
   "metadata": {},
   "outputs": [
    {
     "ename": "NameError",
     "evalue": "name 'doc' is not defined",
     "output_type": "error",
     "traceback": [
      "\u001b[1;31m---------------------------------------------------------------------------\u001b[0m",
      "\u001b[1;31mNameError\u001b[0m                                 Traceback (most recent call last)",
      "\u001b[1;32m<ipython-input-13-c29269e3eaf0>\u001b[0m in \u001b[0;36m<module>\u001b[1;34m\u001b[0m\n\u001b[1;32m----> 1\u001b[1;33m \u001b[0mdoc\u001b[0m\u001b[1;33m\u001b[0m\u001b[1;33m\u001b[0m\u001b[0m\n\u001b[0m",
      "\u001b[1;31mNameError\u001b[0m: name 'doc' is not defined"
     ]
    }
   ],
   "source": [
    "doc"
   ]
  },
  {
   "cell_type": "code",
   "execution_count": 14,
   "metadata": {},
   "outputs": [
    {
     "name": "stdout",
     "output_type": "stream",
     "text": [
      "{'_id': ObjectId('628e1a1211e0d46a313bcd35'), 'id': 'this_is_id_1', 'value': 'this_is_value_1'}\n",
      "{'_id': ObjectId('628e1a1211e0d46a313bcd36'), 'id': 'this_is_id_2', 'value': 'this_is_value_2'}\n",
      "{'_id': ObjectId('628e1a1211e0d46a313bcd37'), 'id': 'this_is_id_3', 'value': 'this_is_value_3'}\n"
     ]
    }
   ],
   "source": [
    "# Regular Expressions\n",
    "\n",
    "mongoQuery = {\"value\": {\"$regex\": \"t\"}}\n",
    "doc = mongoCollection.find(mongoQuery)\n",
    "for x in doc:\n",
    "  print(x)"
   ]
  },
  {
   "cell_type": "code",
   "execution_count": 15,
   "metadata": {},
   "outputs": [
    {
     "name": "stdout",
     "output_type": "stream",
     "text": [
      "{'_id': ObjectId('628e1a1211e0d46a313bcd37'), 'id': 'this_is_id_3', 'value': 'this_is_value_3'}\n",
      "{'_id': ObjectId('628e1a1211e0d46a313bcd36'), 'id': 'this_is_id_2', 'value': 'this_is_value_2'}\n",
      "{'_id': ObjectId('628e1a1211e0d46a313bcd35'), 'id': 'this_is_id_1', 'value': 'this_is_value_1'}\n",
      "{'_id': ObjectId('628e1a0f11e0d46a313bcd34'), 'id': 'this_is_id', 'name': ['this_is_value']}\n"
     ]
    }
   ],
   "source": [
    "# Sorting\n",
    "# sort(\"id\", 1) Asc\n",
    "# sort(\"id\", -1) Desc\n",
    "doc = mongoCollection.find().sort(\"id\", -1)\n",
    "\n",
    "for x in doc:\n",
    "  print(x)"
   ]
  },
  {
   "cell_type": "code",
   "execution_count": 99,
   "metadata": {},
   "outputs": [
    {
     "data": {
      "text/plain": [
       "<pymongo.results.DeleteResult at 0x1765c2fc340>"
      ]
     },
     "execution_count": 99,
     "metadata": {},
     "output_type": "execute_result"
    }
   ],
   "source": [
    "# Deletion\n",
    "\n",
    "mongoQuery = { \"id\": \"this_is_id\" }\n",
    "# mongoCollection.delete_one(mongoQuery)\n",
    "mongoCollection.delete_many(mongoQuery)\n"
   ]
  },
  {
   "cell_type": "code",
   "execution_count": 80,
   "metadata": {},
   "outputs": [],
   "source": [
    "# Drop Collection\n",
    "mongoCollection = mongoDB[\"tempCollection\"]\n",
    "mongoCollection.drop()"
   ]
  },
  {
   "cell_type": "code",
   "execution_count": 16,
   "metadata": {},
   "outputs": [
    {
     "name": "stdout",
     "output_type": "stream",
     "text": [
      "{'_id': ObjectId('628e1a0f11e0d46a313bcd34'), 'id': 'this_is_new_id', 'name': ['this_is_value']}\n",
      "{'_id': ObjectId('628e1a1211e0d46a313bcd35'), 'id': 'this_is_id_1', 'value': 'this_is_value_1'}\n",
      "{'_id': ObjectId('628e1a1211e0d46a313bcd36'), 'id': 'this_is_id_2', 'value': 'this_is_value_2'}\n",
      "{'_id': ObjectId('628e1a1211e0d46a313bcd37'), 'id': 'this_is_id_3', 'value': 'this_is_value_3'}\n"
     ]
    }
   ],
   "source": [
    "# Update\n",
    "\n",
    "mongoQuery = {\"id\": \"this_is_id\"}\n",
    "newvalue = {\"$set\": {\"id\": \"this_is_new_id\"}}\n",
    "\n",
    "mongoCollection.update_one(mongoQuery, newvalue)\n",
    "\n",
    "for x in mongoCollection.find():\n",
    "  print(x)"
   ]
  },
  {
   "cell_type": "code",
   "execution_count": 17,
   "metadata": {},
   "outputs": [
    {
     "name": "stdout",
     "output_type": "stream",
     "text": [
      "{'_id': ObjectId('628e1a0f11e0d46a313bcd34'), 'id': 'this_is_new_id', 'name': ['this_is_value']}\n",
      "{'_id': ObjectId('628e1a1211e0d46a313bcd35'), 'id': 'this_is_id_1', 'value': 'this_is_value_1'}\n",
      "{'_id': ObjectId('628e1a1211e0d46a313bcd36'), 'id': 'this_is_id_2', 'value': 'this_is_value_2'}\n",
      "{'_id': ObjectId('628e1a1211e0d46a313bcd37'), 'id': 'this_is_id_3', 'value': 'this_is_value_3'}\n"
     ]
    }
   ],
   "source": [
    "# Limit the Result\n",
    "result = mongoCollection.find().limit(5)\n",
    "\n",
    "#print the result:\n",
    "for x in result:\n",
    "  print(x)"
   ]
  },
  {
   "cell_type": "code",
   "execution_count": 18,
   "metadata": {},
   "outputs": [],
   "source": [
    "# Migration from MySQL to MongoDB"
   ]
  },
  {
   "cell_type": "code",
   "execution_count": 19,
   "metadata": {},
   "outputs": [],
   "source": [
    "import mysql.connector as connection"
   ]
  },
  {
   "cell_type": "code",
   "execution_count": 20,
   "metadata": {},
   "outputs": [
    {
     "data": {
      "text/plain": [
       "<mysql.connector.connection.MySQLConnection at 0x1bd8b25fd30>"
      ]
     },
     "execution_count": 20,
     "metadata": {},
     "output_type": "execute_result"
    }
   ],
   "source": [
    "# MySQL Connnection\n",
    "\n",
    "mysqlConn = connection.Connect(host=\"localhost\", user=\"root\", passwd=\"\", database=\"beneficiary_db\")\n",
    "mysqlConn"
   ]
  },
  {
   "cell_type": "code",
   "execution_count": 21,
   "metadata": {},
   "outputs": [
    {
     "data": {
      "text/plain": [
       "<mysql.connector.cursor.MySQLCursorDict at 0x1bd8b099ac0>"
      ]
     },
     "execution_count": 21,
     "metadata": {},
     "output_type": "execute_result"
    }
   ],
   "source": [
    "# Defining Cursor\n",
    "cursor = mysqlConn.cursor(dictionary=True)\n",
    "cursor"
   ]
  },
  {
   "cell_type": "code",
   "execution_count": 22,
   "metadata": {},
   "outputs": [
    {
     "data": {
      "text/plain": [
       "[{'id': '8a8b803a7cbdbb65017cbe19cb4f0770', 'age': None}]"
      ]
     },
     "execution_count": 22,
     "metadata": {},
     "output_type": "execute_result"
    }
   ],
   "source": [
    "# Query\n",
    "cursor.execute(\"SELECT id, age FROM beneficiaries LIMIT 1\")\n",
    "mysqlResult = cursor.fetchall()\n",
    "mysqlResult"
   ]
  },
  {
   "cell_type": "code",
   "execution_count": 23,
   "metadata": {},
   "outputs": [
    {
     "name": "stdout",
     "output_type": "stream",
     "text": [
      "1\n"
     ]
    }
   ],
   "source": [
    "mongoResult = mongoCollection.insert_many(mysqlResult)\n",
    "print(len(mongoResult.inserted_ids))"
   ]
  },
  {
   "cell_type": "code",
   "execution_count": 24,
   "metadata": {},
   "outputs": [],
   "source": [
    "from  pandas.io import sql\n",
    "import json"
   ]
  },
  {
   "cell_type": "code",
   "execution_count": 60,
   "metadata": {},
   "outputs": [
    {
     "name": "stderr",
     "output_type": "stream",
     "text": [
      "c:\\users\\adinath nikam\\appdata\\local\\programs\\python\\python38\\lib\\site-packages\\pandas\\io\\sql.py:761: UserWarning: pandas only support SQLAlchemy connectable(engine/connection) ordatabase string URI or sqlite3 DBAPI2 connectionother DBAPI2 objects are not tested, please consider using SQLAlchemy\n",
      "  warnings.warn(\n"
     ]
    },
    {
     "data": {
      "text/html": [
       "<div>\n",
       "<style scoped>\n",
       "    .dataframe tbody tr th:only-of-type {\n",
       "        vertical-align: middle;\n",
       "    }\n",
       "\n",
       "    .dataframe tbody tr th {\n",
       "        vertical-align: top;\n",
       "    }\n",
       "\n",
       "    .dataframe thead th {\n",
       "        text-align: right;\n",
       "    }\n",
       "</style>\n",
       "<table border=\"1\" class=\"dataframe\">\n",
       "  <thead>\n",
       "    <tr style=\"text-align: right;\">\n",
       "      <th></th>\n",
       "      <th>index</th>\n",
       "      <th>id</th>\n",
       "      <th>active</th>\n",
       "      <th>created_at</th>\n",
       "      <th>created_by</th>\n",
       "      <th>deleted</th>\n",
       "      <th>last_modified_by</th>\n",
       "      <th>modified_at</th>\n",
       "      <th>age</th>\n",
       "      <th>annual_household_income</th>\n",
       "      <th>...</th>\n",
       "      <th>highest_educational_passout_year</th>\n",
       "      <th>is_migrant</th>\n",
       "      <th>referance_image_url</th>\n",
       "      <th>referance_image_url_name</th>\n",
       "      <th>user_entity_id</th>\n",
       "      <th>ftp_imported_user</th>\n",
       "      <th>diploma_passout_year</th>\n",
       "      <th>diploma_school_name</th>\n",
       "      <th>hsc_passout_year</th>\n",
       "      <th>hsc_school_name</th>\n",
       "    </tr>\n",
       "  </thead>\n",
       "  <tbody>\n",
       "    <tr>\n",
       "      <th>0</th>\n",
       "      <td>0</td>\n",
       "      <td>8a8b803a7cbdbb65017cbe19cb4f0770</td>\n",
       "      <td>1</td>\n",
       "      <td>1635276933967</td>\n",
       "      <td>089f5038-e0b5-4f6b-8401-9f9217a2341c</td>\n",
       "      <td>0</td>\n",
       "      <td>None</td>\n",
       "      <td>1635276933967</td>\n",
       "      <td>None</td>\n",
       "      <td>None</td>\n",
       "      <td>...</td>\n",
       "      <td>0.0</td>\n",
       "      <td>None</td>\n",
       "      <td>None</td>\n",
       "      <td>None</td>\n",
       "      <td>None</td>\n",
       "      <td>None</td>\n",
       "      <td>0.0</td>\n",
       "      <td>None</td>\n",
       "      <td>0.0</td>\n",
       "      <td>None</td>\n",
       "    </tr>\n",
       "    <tr>\n",
       "      <th>1</th>\n",
       "      <td>1</td>\n",
       "      <td>8a8b803a7cbdbb65017cbe19ce1b0774</td>\n",
       "      <td>1</td>\n",
       "      <td>1635276934683</td>\n",
       "      <td>089f5038-e0b5-4f6b-8401-9f9217a2341c</td>\n",
       "      <td>0</td>\n",
       "      <td>None</td>\n",
       "      <td>1635276934683</td>\n",
       "      <td>None</td>\n",
       "      <td>None</td>\n",
       "      <td>...</td>\n",
       "      <td>0.0</td>\n",
       "      <td>None</td>\n",
       "      <td>None</td>\n",
       "      <td>None</td>\n",
       "      <td>None</td>\n",
       "      <td>None</td>\n",
       "      <td>0.0</td>\n",
       "      <td>None</td>\n",
       "      <td>0.0</td>\n",
       "      <td>None</td>\n",
       "    </tr>\n",
       "    <tr>\n",
       "      <th>2</th>\n",
       "      <td>2</td>\n",
       "      <td>8a8b803a7cbdbb65017cbe19d0e60778</td>\n",
       "      <td>1</td>\n",
       "      <td>1635276935398</td>\n",
       "      <td>089f5038-e0b5-4f6b-8401-9f9217a2341c</td>\n",
       "      <td>0</td>\n",
       "      <td>None</td>\n",
       "      <td>1635276935398</td>\n",
       "      <td>None</td>\n",
       "      <td>None</td>\n",
       "      <td>...</td>\n",
       "      <td>0.0</td>\n",
       "      <td>None</td>\n",
       "      <td>None</td>\n",
       "      <td>None</td>\n",
       "      <td>None</td>\n",
       "      <td>None</td>\n",
       "      <td>0.0</td>\n",
       "      <td>None</td>\n",
       "      <td>0.0</td>\n",
       "      <td>None</td>\n",
       "    </tr>\n",
       "    <tr>\n",
       "      <th>3</th>\n",
       "      <td>3</td>\n",
       "      <td>8a8b803a7cbdbb65017cbe19d3b0077c</td>\n",
       "      <td>1</td>\n",
       "      <td>1635276936111</td>\n",
       "      <td>089f5038-e0b5-4f6b-8401-9f9217a2341c</td>\n",
       "      <td>0</td>\n",
       "      <td>None</td>\n",
       "      <td>1635276936111</td>\n",
       "      <td>None</td>\n",
       "      <td>None</td>\n",
       "      <td>...</td>\n",
       "      <td>0.0</td>\n",
       "      <td>None</td>\n",
       "      <td>None</td>\n",
       "      <td>None</td>\n",
       "      <td>None</td>\n",
       "      <td>None</td>\n",
       "      <td>0.0</td>\n",
       "      <td>None</td>\n",
       "      <td>0.0</td>\n",
       "      <td>None</td>\n",
       "    </tr>\n",
       "    <tr>\n",
       "      <th>4</th>\n",
       "      <td>4</td>\n",
       "      <td>8a8b803a7cbdbb65017cbe19d6790780</td>\n",
       "      <td>1</td>\n",
       "      <td>1635276936825</td>\n",
       "      <td>089f5038-e0b5-4f6b-8401-9f9217a2341c</td>\n",
       "      <td>0</td>\n",
       "      <td>None</td>\n",
       "      <td>1635276936825</td>\n",
       "      <td>None</td>\n",
       "      <td>None</td>\n",
       "      <td>...</td>\n",
       "      <td>0.0</td>\n",
       "      <td>None</td>\n",
       "      <td>None</td>\n",
       "      <td>None</td>\n",
       "      <td>None</td>\n",
       "      <td>None</td>\n",
       "      <td>0.0</td>\n",
       "      <td>None</td>\n",
       "      <td>0.0</td>\n",
       "      <td>None</td>\n",
       "    </tr>\n",
       "  </tbody>\n",
       "</table>\n",
       "<p>5 rows × 81 columns</p>\n",
       "</div>"
      ],
      "text/plain": [
       "   index                                id  active     created_at  \\\n",
       "0      0  8a8b803a7cbdbb65017cbe19cb4f0770       1  1635276933967   \n",
       "1      1  8a8b803a7cbdbb65017cbe19ce1b0774       1  1635276934683   \n",
       "2      2  8a8b803a7cbdbb65017cbe19d0e60778       1  1635276935398   \n",
       "3      3  8a8b803a7cbdbb65017cbe19d3b0077c       1  1635276936111   \n",
       "4      4  8a8b803a7cbdbb65017cbe19d6790780       1  1635276936825   \n",
       "\n",
       "                             created_by  deleted last_modified_by  \\\n",
       "0  089f5038-e0b5-4f6b-8401-9f9217a2341c        0             None   \n",
       "1  089f5038-e0b5-4f6b-8401-9f9217a2341c        0             None   \n",
       "2  089f5038-e0b5-4f6b-8401-9f9217a2341c        0             None   \n",
       "3  089f5038-e0b5-4f6b-8401-9f9217a2341c        0             None   \n",
       "4  089f5038-e0b5-4f6b-8401-9f9217a2341c        0             None   \n",
       "\n",
       "     modified_at   age annual_household_income  ...  \\\n",
       "0  1635276933967  None                    None  ...   \n",
       "1  1635276934683  None                    None  ...   \n",
       "2  1635276935398  None                    None  ...   \n",
       "3  1635276936111  None                    None  ...   \n",
       "4  1635276936825  None                    None  ...   \n",
       "\n",
       "  highest_educational_passout_year is_migrant referance_image_url  \\\n",
       "0                              0.0       None                None   \n",
       "1                              0.0       None                None   \n",
       "2                              0.0       None                None   \n",
       "3                              0.0       None                None   \n",
       "4                              0.0       None                None   \n",
       "\n",
       "  referance_image_url_name user_entity_id ftp_imported_user  \\\n",
       "0                     None           None              None   \n",
       "1                     None           None              None   \n",
       "2                     None           None              None   \n",
       "3                     None           None              None   \n",
       "4                     None           None              None   \n",
       "\n",
       "  diploma_passout_year diploma_school_name hsc_passout_year hsc_school_name  \n",
       "0                  0.0                None              0.0            None  \n",
       "1                  0.0                None              0.0            None  \n",
       "2                  0.0                None              0.0            None  \n",
       "3                  0.0                None              0.0            None  \n",
       "4                  0.0                None              0.0            None  \n",
       "\n",
       "[5 rows x 81 columns]"
      ]
     },
     "execution_count": 60,
     "metadata": {},
     "output_type": "execute_result"
    }
   ],
   "source": [
    "query = \"SELECT * FROM beneficiaries LIMIT 5\"\n",
    "df = sql.read_sql(query, mysqlConn)\n",
    "df"
   ]
  },
  {
   "cell_type": "code",
   "execution_count": 62,
   "metadata": {},
   "outputs": [
    {
     "data": {
      "text/plain": [
       "'{\"index\":{\"0\":0,\"1\":1,\"2\":2,\"3\":3,\"4\":4},\"id\":{\"0\":\"8a8b803a7cbdbb65017cbe19cb4f0770\",\"1\":\"8a8b803a7cbdbb65017cbe19ce1b0774\",\"2\":\"8a8b803a7cbdbb65017cbe19d0e60778\",\"3\":\"8a8b803a7cbdbb65017cbe19d3b0077c\",\"4\":\"8a8b803a7cbdbb65017cbe19d6790780\"},\"active\":{\"0\":1,\"1\":1,\"2\":1,\"3\":1,\"4\":1},\"created_at\":{\"0\":1635276933967,\"1\":1635276934683,\"2\":1635276935398,\"3\":1635276936111,\"4\":1635276936825},\"created_by\":{\"0\":\"089f5038-e0b5-4f6b-8401-9f9217a2341c\",\"1\":\"089f5038-e0b5-4f6b-8401-9f9217a2341c\",\"2\":\"089f5038-e0b5-4f6b-8401-9f9217a2341c\",\"3\":\"089f5038-e0b5-4f6b-8401-9f9217a2341c\",\"4\":\"089f5038-e0b5-4f6b-8401-9f9217a2341c\"},\"deleted\":{\"0\":0,\"1\":0,\"2\":0,\"3\":0,\"4\":0},\"last_modified_by\":{\"0\":null,\"1\":null,\"2\":null,\"3\":null,\"4\":null},\"modified_at\":{\"0\":1635276933967,\"1\":1635276934683,\"2\":1635276935398,\"3\":1635276936111,\"4\":1635276936825},\"age\":{\"0\":null,\"1\":null,\"2\":null,\"3\":null,\"4\":null},\"annual_household_income\":{\"0\":null,\"1\":null,\"2\":null,\"3\":null,\"4\":null},\"bank_account_no\":{\"0\":null,\"1\":null,\"2\":null,\"3\":null,\"4\":null},\"bank_name\":{\"0\":null,\"1\":null,\"2\":null,\"3\":null,\"4\":null},\"beneficiary_reference_id\":{\"0\":null,\"1\":null,\"2\":null,\"3\":null,\"4\":null},\"branch_name\":{\"0\":null,\"1\":null,\"2\":null,\"3\":null,\"4\":null},\"college_name\":{\"0\":null,\"1\":null,\"2\":null,\"3\":null,\"4\":null},\"college_passout_year\":{\"0\":null,\"1\":null,\"2\":null,\"3\":null,\"4\":null},\"consented\":{\"0\":null,\"1\":null,\"2\":null,\"3\":null,\"4\":null},\"digital_signature_url\":{\"0\":null,\"1\":null,\"2\":null,\"3\":null,\"4\":null},\"dob\":{\"0\":274752000000,\"1\":621648000000,\"2\":306288000000,\"3\":873936000000,\"4\":1000080000000},\"driving_licence_expiry_date\":{\"0\":null,\"1\":null,\"2\":null,\"3\":null,\"4\":null},\"driving_licence_issued_on\":{\"0\":null,\"1\":null,\"2\":null,\"3\":null,\"4\":null},\"driving_licence_no\":{\"0\":null,\"1\":null,\"2\":null,\"3\":null,\"4\":null},\"driving_licence_type\":{\"0\":null,\"1\":null,\"2\":null,\"3\":null,\"4\":null},\"email\":{\"0\":null,\"1\":null,\"2\":null,\"3\":null,\"4\":null},\"field_agent_id\":{\"0\":\"089f5038-e0b5-4f6b-8401-9f9217a2341c\",\"1\":\"089f5038-e0b5-4f6b-8401-9f9217a2341c\",\"2\":\"089f5038-e0b5-4f6b-8401-9f9217a2341c\",\"3\":\"089f5038-e0b5-4f6b-8401-9f9217a2341c\",\"4\":\"089f5038-e0b5-4f6b-8401-9f9217a2341c\"},\"first_name\":{\"0\":\"GOVIND ISHWAR PARMAR\",\"1\":\"BHOLENATH GER\",\"2\":\"KESHAR CHAUHAN\",\"3\":\"RAJU KUMAR\",\"4\":\"BAIDYANATH M\"},\"gender\":{\"0\":\"Male\",\"1\":\"Male\",\"2\":\"Female\",\"3\":\"Male\",\"4\":\"Male\"},\"highest_educational_qualification\":{\"0\":null,\"1\":null,\"2\":null,\"3\":null,\"4\":null},\"id_image_url\":{\"0\":null,\"1\":null,\"2\":null,\"3\":null,\"4\":null},\"ifsc_code\":{\"0\":null,\"1\":null,\"2\":null,\"3\":null,\"4\":null},\"income_currency\":{\"0\":null,\"1\":null,\"2\":null,\"3\":null,\"4\":null},\"income_source\":{\"0\":null,\"1\":null,\"2\":null,\"3\":null,\"4\":null},\"jan_dhan_account_no\":{\"0\":null,\"1\":null,\"2\":null,\"3\":null,\"4\":null},\"landline\":{\"0\":null,\"1\":null,\"2\":null,\"3\":null,\"4\":null},\"last_name\":{\"0\":null,\"1\":null,\"2\":null,\"3\":null,\"4\":null},\"marital_status\":{\"0\":null,\"1\":null,\"2\":null,\"3\":null,\"4\":null},\"middle_name\":{\"0\":null,\"1\":null,\"2\":null,\"3\":null,\"4\":null},\"mnrega_card_no\":{\"0\":null,\"1\":null,\"2\":null,\"3\":null,\"4\":null},\"mobile\":{\"0\":\"7208301189\",\"1\":\"6295823235\",\"2\":\"9892244190\",\"3\":\"9892585479\",\"4\":\"8767489454\"},\"monthly_income\":{\"0\":null,\"1\":null,\"2\":null,\"3\":null,\"4\":null},\"no_of_family_members\":{\"0\":null,\"1\":null,\"2\":null,\"3\":null,\"4\":null},\"other_image_url\":{\"0\":null,\"1\":null,\"2\":null,\"3\":null,\"4\":null},\"pancard\":{\"0\":null,\"1\":null,\"2\":null,\"3\":null,\"4\":null},\"passport_expiry_date\":{\"0\":null,\"1\":null,\"2\":null,\"3\":null,\"4\":null},\"passport_issued_on\":{\"0\":null,\"1\":null,\"2\":null,\"3\":null,\"4\":null},\"passport_no\":{\"0\":null,\"1\":null,\"2\":null,\"3\":null,\"4\":null},\"project_id\":{\"0\":\"8a8b803a7c6e1a8c017c98dce2f40012\",\"1\":\"8a8b803a7c6e1a8c017c98dce2f40012\",\"2\":\"8a8b803a7c6e1a8c017c98dce2f40012\",\"3\":\"8a8b803a7c6e1a8c017c98dce2f40012\",\"4\":\"8a8b803a7c6e1a8c017c98dce2f40012\"},\"ration_card_no\":{\"0\":null,\"1\":null,\"2\":null,\"3\":null,\"4\":null},\"ration_card_type\":{\"0\":null,\"1\":null,\"2\":null,\"3\":null,\"4\":null},\"school_name\":{\"0\":null,\"1\":null,\"2\":null,\"3\":null,\"4\":null},\"school_passout_year\":{\"0\":null,\"1\":null,\"2\":null,\"3\":null,\"4\":null},\"self_image_url\":{\"0\":null,\"1\":null,\"2\":null,\"3\":null,\"4\":null},\"terms_and_conditions\":{\"0\":null,\"1\":null,\"2\":null,\"3\":null,\"4\":null},\"voter_id\":{\"0\":null,\"1\":null,\"2\":null,\"3\":null,\"4\":null},\"educational_status\":{\"0\":null,\"1\":null,\"2\":null,\"3\":null,\"4\":null},\"language_id\":{\"0\":null,\"1\":null,\"2\":null,\"3\":null,\"4\":null},\"primary_occupation\":{\"0\":null,\"1\":null,\"2\":null,\"3\":null,\"4\":null},\"secondary_occupation\":{\"0\":null,\"1\":null,\"2\":null,\"3\":null,\"4\":null},\"synced_at\":{\"0\":1646377239000,\"1\":1646377239000,\"2\":1646377239000,\"3\":1646377239000,\"4\":1646377239000},\"digital_signature_url_name\":{\"0\":null,\"1\":null,\"2\":null,\"3\":null,\"4\":null},\"id_image_url_name\":{\"0\":null,\"1\":null,\"2\":null,\"3\":null,\"4\":null},\"other_image_url_name\":{\"0\":null,\"1\":null,\"2\":null,\"3\":null,\"4\":null},\"self_image_url_name\":{\"0\":null,\"1\":null,\"2\":null,\"3\":null,\"4\":null},\"id_card_number\":{\"0\":null,\"1\":null,\"2\":null,\"3\":null,\"4\":null},\"is_verified\":{\"0\":null,\"1\":null,\"2\":null,\"3\":null,\"4\":null},\"delete_request\":{\"0\":\"NONE\",\"1\":\"NONE\",\"2\":\"NONE\",\"3\":\"NONE\",\"4\":\"NONE\"},\"migrant\":{\"0\":\"NON_MIGRANT\",\"1\":\"NON_MIGRANT\",\"2\":\"NON_MIGRANT\",\"3\":\"NON_MIGRANT\",\"4\":\"NON_MIGRANT\"},\"mobile_type\":{\"0\":null,\"1\":null,\"2\":null,\"3\":null,\"4\":null},\"secondary_mobile\":{\"0\":null,\"1\":null,\"2\":null,\"3\":null,\"4\":null},\"secondary_mobile_type\":{\"0\":null,\"1\":null,\"2\":null,\"3\":null,\"4\":null},\"monthly_income_range_id\":{\"0\":null,\"1\":null,\"2\":null,\"3\":null,\"4\":null},\"highest_educational_passout_year\":{\"0\":0.0,\"1\":0.0,\"2\":0.0,\"3\":0.0,\"4\":0.0},\"is_migrant\":{\"0\":null,\"1\":null,\"2\":null,\"3\":null,\"4\":null},\"referance_image_url\":{\"0\":null,\"1\":null,\"2\":null,\"3\":null,\"4\":null},\"referance_image_url_name\":{\"0\":null,\"1\":null,\"2\":null,\"3\":null,\"4\":null},\"user_entity_id\":{\"0\":null,\"1\":null,\"2\":null,\"3\":null,\"4\":null},\"ftp_imported_user\":{\"0\":null,\"1\":null,\"2\":null,\"3\":null,\"4\":null},\"diploma_passout_year\":{\"0\":0.0,\"1\":0.0,\"2\":0.0,\"3\":0.0,\"4\":0.0},\"diploma_school_name\":{\"0\":null,\"1\":null,\"2\":null,\"3\":null,\"4\":null},\"hsc_passout_year\":{\"0\":0.0,\"1\":0.0,\"2\":0.0,\"3\":0.0,\"4\":0.0},\"hsc_school_name\":{\"0\":null,\"1\":null,\"2\":null,\"3\":null,\"4\":null}}'"
      ]
     },
     "execution_count": 62,
     "metadata": {},
     "output_type": "execute_result"
    }
   ],
   "source": [
    "df.to_json()"
   ]
  },
  {
   "cell_type": "code",
   "execution_count": 63,
   "metadata": {},
   "outputs": [
    {
     "name": "stdout",
     "output_type": "stream",
     "text": [
      "[ObjectId('628e24ac11e0d46a313bcd3a'), ObjectId('628e24ac11e0d46a313bcd3b'), ObjectId('628e24ac11e0d46a313bcd3c'), ObjectId('628e24ac11e0d46a313bcd3d'), ObjectId('628e24ac11e0d46a313bcd3e')]\n"
     ]
    }
   ],
   "source": [
    "# mongoResult = mongoCollection.insert_many(df.to_json())\n",
    "records = json.loads(df.T.to_json()).values()\n",
    "res = mongoCollection.insert_many(records)\n",
    "print(res.inserted_ids)"
   ]
  },
  {
   "cell_type": "code",
   "execution_count": 80,
   "metadata": {},
   "outputs": [
    {
     "data": {
      "text/plain": [
       "dict_values"
      ]
     },
     "execution_count": 80,
     "metadata": {},
     "output_type": "execute_result"
    }
   ],
   "source": [
    "type(records)"
   ]
  },
  {
   "cell_type": "code",
   "execution_count": 81,
   "metadata": {},
   "outputs": [],
   "source": [
    "x = df.to_json()\n",
    "# x.to_dict()\n",
    "y = df.T.to_json()"
   ]
  },
  {
   "cell_type": "code",
   "execution_count": 82,
   "metadata": {},
   "outputs": [
    {
     "data": {
      "text/plain": [
       "'{\"index\":{\"0\":0,\"1\":1,\"2\":2,\"3\":3,\"4\":4},\"id\":{\"0\":\"8a8b803a7cbdbb65017cbe19cb4f0770\",\"1\":\"8a8b803a7cbdbb65017cbe19ce1b0774\",\"2\":\"8a8b803a7cbdbb65017cbe19d0e60778\",\"3\":\"8a8b803a7cbdbb65017cbe19d3b0077c\",\"4\":\"8a8b803a7cbdbb65017cbe19d6790780\"},\"active\":{\"0\":1,\"1\":1,\"2\":1,\"3\":1,\"4\":1},\"created_at\":{\"0\":1635276933967,\"1\":1635276934683,\"2\":1635276935398,\"3\":1635276936111,\"4\":1635276936825},\"created_by\":{\"0\":\"089f5038-e0b5-4f6b-8401-9f9217a2341c\",\"1\":\"089f5038-e0b5-4f6b-8401-9f9217a2341c\",\"2\":\"089f5038-e0b5-4f6b-8401-9f9217a2341c\",\"3\":\"089f5038-e0b5-4f6b-8401-9f9217a2341c\",\"4\":\"089f5038-e0b5-4f6b-8401-9f9217a2341c\"},\"deleted\":{\"0\":0,\"1\":0,\"2\":0,\"3\":0,\"4\":0},\"last_modified_by\":{\"0\":null,\"1\":null,\"2\":null,\"3\":null,\"4\":null},\"modified_at\":{\"0\":1635276933967,\"1\":1635276934683,\"2\":1635276935398,\"3\":1635276936111,\"4\":1635276936825},\"age\":{\"0\":null,\"1\":null,\"2\":null,\"3\":null,\"4\":null},\"annual_household_income\":{\"0\":null,\"1\":null,\"2\":null,\"3\":null,\"4\":null},\"bank_account_no\":{\"0\":null,\"1\":null,\"2\":null,\"3\":null,\"4\":null},\"bank_name\":{\"0\":null,\"1\":null,\"2\":null,\"3\":null,\"4\":null},\"beneficiary_reference_id\":{\"0\":null,\"1\":null,\"2\":null,\"3\":null,\"4\":null},\"branch_name\":{\"0\":null,\"1\":null,\"2\":null,\"3\":null,\"4\":null},\"college_name\":{\"0\":null,\"1\":null,\"2\":null,\"3\":null,\"4\":null},\"college_passout_year\":{\"0\":null,\"1\":null,\"2\":null,\"3\":null,\"4\":null},\"consented\":{\"0\":null,\"1\":null,\"2\":null,\"3\":null,\"4\":null},\"digital_signature_url\":{\"0\":null,\"1\":null,\"2\":null,\"3\":null,\"4\":null},\"dob\":{\"0\":274752000000,\"1\":621648000000,\"2\":306288000000,\"3\":873936000000,\"4\":1000080000000},\"driving_licence_expiry_date\":{\"0\":null,\"1\":null,\"2\":null,\"3\":null,\"4\":null},\"driving_licence_issued_on\":{\"0\":null,\"1\":null,\"2\":null,\"3\":null,\"4\":null},\"driving_licence_no\":{\"0\":null,\"1\":null,\"2\":null,\"3\":null,\"4\":null},\"driving_licence_type\":{\"0\":null,\"1\":null,\"2\":null,\"3\":null,\"4\":null},\"email\":{\"0\":null,\"1\":null,\"2\":null,\"3\":null,\"4\":null},\"field_agent_id\":{\"0\":\"089f5038-e0b5-4f6b-8401-9f9217a2341c\",\"1\":\"089f5038-e0b5-4f6b-8401-9f9217a2341c\",\"2\":\"089f5038-e0b5-4f6b-8401-9f9217a2341c\",\"3\":\"089f5038-e0b5-4f6b-8401-9f9217a2341c\",\"4\":\"089f5038-e0b5-4f6b-8401-9f9217a2341c\"},\"first_name\":{\"0\":\"GOVIND ISHWAR PARMAR\",\"1\":\"BHOLENATH GER\",\"2\":\"KESHAR CHAUHAN\",\"3\":\"RAJU KUMAR\",\"4\":\"BAIDYANATH M\"},\"gender\":{\"0\":\"Male\",\"1\":\"Male\",\"2\":\"Female\",\"3\":\"Male\",\"4\":\"Male\"},\"highest_educational_qualification\":{\"0\":null,\"1\":null,\"2\":null,\"3\":null,\"4\":null},\"id_image_url\":{\"0\":null,\"1\":null,\"2\":null,\"3\":null,\"4\":null},\"ifsc_code\":{\"0\":null,\"1\":null,\"2\":null,\"3\":null,\"4\":null},\"income_currency\":{\"0\":null,\"1\":null,\"2\":null,\"3\":null,\"4\":null},\"income_source\":{\"0\":null,\"1\":null,\"2\":null,\"3\":null,\"4\":null},\"jan_dhan_account_no\":{\"0\":null,\"1\":null,\"2\":null,\"3\":null,\"4\":null},\"landline\":{\"0\":null,\"1\":null,\"2\":null,\"3\":null,\"4\":null},\"last_name\":{\"0\":null,\"1\":null,\"2\":null,\"3\":null,\"4\":null},\"marital_status\":{\"0\":null,\"1\":null,\"2\":null,\"3\":null,\"4\":null},\"middle_name\":{\"0\":null,\"1\":null,\"2\":null,\"3\":null,\"4\":null},\"mnrega_card_no\":{\"0\":null,\"1\":null,\"2\":null,\"3\":null,\"4\":null},\"mobile\":{\"0\":\"7208301189\",\"1\":\"6295823235\",\"2\":\"9892244190\",\"3\":\"9892585479\",\"4\":\"8767489454\"},\"monthly_income\":{\"0\":null,\"1\":null,\"2\":null,\"3\":null,\"4\":null},\"no_of_family_members\":{\"0\":null,\"1\":null,\"2\":null,\"3\":null,\"4\":null},\"other_image_url\":{\"0\":null,\"1\":null,\"2\":null,\"3\":null,\"4\":null},\"pancard\":{\"0\":null,\"1\":null,\"2\":null,\"3\":null,\"4\":null},\"passport_expiry_date\":{\"0\":null,\"1\":null,\"2\":null,\"3\":null,\"4\":null},\"passport_issued_on\":{\"0\":null,\"1\":null,\"2\":null,\"3\":null,\"4\":null},\"passport_no\":{\"0\":null,\"1\":null,\"2\":null,\"3\":null,\"4\":null},\"project_id\":{\"0\":\"8a8b803a7c6e1a8c017c98dce2f40012\",\"1\":\"8a8b803a7c6e1a8c017c98dce2f40012\",\"2\":\"8a8b803a7c6e1a8c017c98dce2f40012\",\"3\":\"8a8b803a7c6e1a8c017c98dce2f40012\",\"4\":\"8a8b803a7c6e1a8c017c98dce2f40012\"},\"ration_card_no\":{\"0\":null,\"1\":null,\"2\":null,\"3\":null,\"4\":null},\"ration_card_type\":{\"0\":null,\"1\":null,\"2\":null,\"3\":null,\"4\":null},\"school_name\":{\"0\":null,\"1\":null,\"2\":null,\"3\":null,\"4\":null},\"school_passout_year\":{\"0\":null,\"1\":null,\"2\":null,\"3\":null,\"4\":null},\"self_image_url\":{\"0\":null,\"1\":null,\"2\":null,\"3\":null,\"4\":null},\"terms_and_conditions\":{\"0\":null,\"1\":null,\"2\":null,\"3\":null,\"4\":null},\"voter_id\":{\"0\":null,\"1\":null,\"2\":null,\"3\":null,\"4\":null},\"educational_status\":{\"0\":null,\"1\":null,\"2\":null,\"3\":null,\"4\":null},\"language_id\":{\"0\":null,\"1\":null,\"2\":null,\"3\":null,\"4\":null},\"primary_occupation\":{\"0\":null,\"1\":null,\"2\":null,\"3\":null,\"4\":null},\"secondary_occupation\":{\"0\":null,\"1\":null,\"2\":null,\"3\":null,\"4\":null},\"synced_at\":{\"0\":1646377239000,\"1\":1646377239000,\"2\":1646377239000,\"3\":1646377239000,\"4\":1646377239000},\"digital_signature_url_name\":{\"0\":null,\"1\":null,\"2\":null,\"3\":null,\"4\":null},\"id_image_url_name\":{\"0\":null,\"1\":null,\"2\":null,\"3\":null,\"4\":null},\"other_image_url_name\":{\"0\":null,\"1\":null,\"2\":null,\"3\":null,\"4\":null},\"self_image_url_name\":{\"0\":null,\"1\":null,\"2\":null,\"3\":null,\"4\":null},\"id_card_number\":{\"0\":null,\"1\":null,\"2\":null,\"3\":null,\"4\":null},\"is_verified\":{\"0\":null,\"1\":null,\"2\":null,\"3\":null,\"4\":null},\"delete_request\":{\"0\":\"NONE\",\"1\":\"NONE\",\"2\":\"NONE\",\"3\":\"NONE\",\"4\":\"NONE\"},\"migrant\":{\"0\":\"NON_MIGRANT\",\"1\":\"NON_MIGRANT\",\"2\":\"NON_MIGRANT\",\"3\":\"NON_MIGRANT\",\"4\":\"NON_MIGRANT\"},\"mobile_type\":{\"0\":null,\"1\":null,\"2\":null,\"3\":null,\"4\":null},\"secondary_mobile\":{\"0\":null,\"1\":null,\"2\":null,\"3\":null,\"4\":null},\"secondary_mobile_type\":{\"0\":null,\"1\":null,\"2\":null,\"3\":null,\"4\":null},\"monthly_income_range_id\":{\"0\":null,\"1\":null,\"2\":null,\"3\":null,\"4\":null},\"highest_educational_passout_year\":{\"0\":0.0,\"1\":0.0,\"2\":0.0,\"3\":0.0,\"4\":0.0},\"is_migrant\":{\"0\":null,\"1\":null,\"2\":null,\"3\":null,\"4\":null},\"referance_image_url\":{\"0\":null,\"1\":null,\"2\":null,\"3\":null,\"4\":null},\"referance_image_url_name\":{\"0\":null,\"1\":null,\"2\":null,\"3\":null,\"4\":null},\"user_entity_id\":{\"0\":null,\"1\":null,\"2\":null,\"3\":null,\"4\":null},\"ftp_imported_user\":{\"0\":null,\"1\":null,\"2\":null,\"3\":null,\"4\":null},\"diploma_passout_year\":{\"0\":0.0,\"1\":0.0,\"2\":0.0,\"3\":0.0,\"4\":0.0},\"diploma_school_name\":{\"0\":null,\"1\":null,\"2\":null,\"3\":null,\"4\":null},\"hsc_passout_year\":{\"0\":0.0,\"1\":0.0,\"2\":0.0,\"3\":0.0,\"4\":0.0},\"hsc_school_name\":{\"0\":null,\"1\":null,\"2\":null,\"3\":null,\"4\":null}}'"
      ]
     },
     "execution_count": 82,
     "metadata": {},
     "output_type": "execute_result"
    }
   ],
   "source": [
    "x"
   ]
  },
  {
   "cell_type": "code",
   "execution_count": 83,
   "metadata": {},
   "outputs": [
    {
     "data": {
      "text/html": [
       "<div>\n",
       "<style scoped>\n",
       "    .dataframe tbody tr th:only-of-type {\n",
       "        vertical-align: middle;\n",
       "    }\n",
       "\n",
       "    .dataframe tbody tr th {\n",
       "        vertical-align: top;\n",
       "    }\n",
       "\n",
       "    .dataframe thead th {\n",
       "        text-align: right;\n",
       "    }\n",
       "</style>\n",
       "<table border=\"1\" class=\"dataframe\">\n",
       "  <thead>\n",
       "    <tr style=\"text-align: right;\">\n",
       "      <th></th>\n",
       "      <th>0</th>\n",
       "      <th>1</th>\n",
       "      <th>2</th>\n",
       "      <th>3</th>\n",
       "      <th>4</th>\n",
       "    </tr>\n",
       "  </thead>\n",
       "  <tbody>\n",
       "    <tr>\n",
       "      <th>index</th>\n",
       "      <td>0</td>\n",
       "      <td>1</td>\n",
       "      <td>2</td>\n",
       "      <td>3</td>\n",
       "      <td>4</td>\n",
       "    </tr>\n",
       "    <tr>\n",
       "      <th>id</th>\n",
       "      <td>8a8b803a7cbdbb65017cbe19cb4f0770</td>\n",
       "      <td>8a8b803a7cbdbb65017cbe19ce1b0774</td>\n",
       "      <td>8a8b803a7cbdbb65017cbe19d0e60778</td>\n",
       "      <td>8a8b803a7cbdbb65017cbe19d3b0077c</td>\n",
       "      <td>8a8b803a7cbdbb65017cbe19d6790780</td>\n",
       "    </tr>\n",
       "    <tr>\n",
       "      <th>active</th>\n",
       "      <td>1</td>\n",
       "      <td>1</td>\n",
       "      <td>1</td>\n",
       "      <td>1</td>\n",
       "      <td>1</td>\n",
       "    </tr>\n",
       "    <tr>\n",
       "      <th>created_at</th>\n",
       "      <td>1635276933967</td>\n",
       "      <td>1635276934683</td>\n",
       "      <td>1635276935398</td>\n",
       "      <td>1635276936111</td>\n",
       "      <td>1635276936825</td>\n",
       "    </tr>\n",
       "    <tr>\n",
       "      <th>created_by</th>\n",
       "      <td>089f5038-e0b5-4f6b-8401-9f9217a2341c</td>\n",
       "      <td>089f5038-e0b5-4f6b-8401-9f9217a2341c</td>\n",
       "      <td>089f5038-e0b5-4f6b-8401-9f9217a2341c</td>\n",
       "      <td>089f5038-e0b5-4f6b-8401-9f9217a2341c</td>\n",
       "      <td>089f5038-e0b5-4f6b-8401-9f9217a2341c</td>\n",
       "    </tr>\n",
       "    <tr>\n",
       "      <th>...</th>\n",
       "      <td>...</td>\n",
       "      <td>...</td>\n",
       "      <td>...</td>\n",
       "      <td>...</td>\n",
       "      <td>...</td>\n",
       "    </tr>\n",
       "    <tr>\n",
       "      <th>ftp_imported_user</th>\n",
       "      <td>None</td>\n",
       "      <td>None</td>\n",
       "      <td>None</td>\n",
       "      <td>None</td>\n",
       "      <td>None</td>\n",
       "    </tr>\n",
       "    <tr>\n",
       "      <th>diploma_passout_year</th>\n",
       "      <td>0.0</td>\n",
       "      <td>0.0</td>\n",
       "      <td>0.0</td>\n",
       "      <td>0.0</td>\n",
       "      <td>0.0</td>\n",
       "    </tr>\n",
       "    <tr>\n",
       "      <th>diploma_school_name</th>\n",
       "      <td>None</td>\n",
       "      <td>None</td>\n",
       "      <td>None</td>\n",
       "      <td>None</td>\n",
       "      <td>None</td>\n",
       "    </tr>\n",
       "    <tr>\n",
       "      <th>hsc_passout_year</th>\n",
       "      <td>0.0</td>\n",
       "      <td>0.0</td>\n",
       "      <td>0.0</td>\n",
       "      <td>0.0</td>\n",
       "      <td>0.0</td>\n",
       "    </tr>\n",
       "    <tr>\n",
       "      <th>hsc_school_name</th>\n",
       "      <td>None</td>\n",
       "      <td>None</td>\n",
       "      <td>None</td>\n",
       "      <td>None</td>\n",
       "      <td>None</td>\n",
       "    </tr>\n",
       "  </tbody>\n",
       "</table>\n",
       "<p>81 rows × 5 columns</p>\n",
       "</div>"
      ],
      "text/plain": [
       "                                                         0  \\\n",
       "index                                                    0   \n",
       "id                        8a8b803a7cbdbb65017cbe19cb4f0770   \n",
       "active                                                   1   \n",
       "created_at                                   1635276933967   \n",
       "created_by            089f5038-e0b5-4f6b-8401-9f9217a2341c   \n",
       "...                                                    ...   \n",
       "ftp_imported_user                                     None   \n",
       "diploma_passout_year                                   0.0   \n",
       "diploma_school_name                                   None   \n",
       "hsc_passout_year                                       0.0   \n",
       "hsc_school_name                                       None   \n",
       "\n",
       "                                                         1  \\\n",
       "index                                                    1   \n",
       "id                        8a8b803a7cbdbb65017cbe19ce1b0774   \n",
       "active                                                   1   \n",
       "created_at                                   1635276934683   \n",
       "created_by            089f5038-e0b5-4f6b-8401-9f9217a2341c   \n",
       "...                                                    ...   \n",
       "ftp_imported_user                                     None   \n",
       "diploma_passout_year                                   0.0   \n",
       "diploma_school_name                                   None   \n",
       "hsc_passout_year                                       0.0   \n",
       "hsc_school_name                                       None   \n",
       "\n",
       "                                                         2  \\\n",
       "index                                                    2   \n",
       "id                        8a8b803a7cbdbb65017cbe19d0e60778   \n",
       "active                                                   1   \n",
       "created_at                                   1635276935398   \n",
       "created_by            089f5038-e0b5-4f6b-8401-9f9217a2341c   \n",
       "...                                                    ...   \n",
       "ftp_imported_user                                     None   \n",
       "diploma_passout_year                                   0.0   \n",
       "diploma_school_name                                   None   \n",
       "hsc_passout_year                                       0.0   \n",
       "hsc_school_name                                       None   \n",
       "\n",
       "                                                         3  \\\n",
       "index                                                    3   \n",
       "id                        8a8b803a7cbdbb65017cbe19d3b0077c   \n",
       "active                                                   1   \n",
       "created_at                                   1635276936111   \n",
       "created_by            089f5038-e0b5-4f6b-8401-9f9217a2341c   \n",
       "...                                                    ...   \n",
       "ftp_imported_user                                     None   \n",
       "diploma_passout_year                                   0.0   \n",
       "diploma_school_name                                   None   \n",
       "hsc_passout_year                                       0.0   \n",
       "hsc_school_name                                       None   \n",
       "\n",
       "                                                         4  \n",
       "index                                                    4  \n",
       "id                        8a8b803a7cbdbb65017cbe19d6790780  \n",
       "active                                                   1  \n",
       "created_at                                   1635276936825  \n",
       "created_by            089f5038-e0b5-4f6b-8401-9f9217a2341c  \n",
       "...                                                    ...  \n",
       "ftp_imported_user                                     None  \n",
       "diploma_passout_year                                   0.0  \n",
       "diploma_school_name                                   None  \n",
       "hsc_passout_year                                       0.0  \n",
       "hsc_school_name                                       None  \n",
       "\n",
       "[81 rows x 5 columns]"
      ]
     },
     "execution_count": 83,
     "metadata": {},
     "output_type": "execute_result"
    }
   ],
   "source": [
    "df.T"
   ]
  },
  {
   "cell_type": "code",
   "execution_count": 68,
   "metadata": {},
   "outputs": [],
   "source": [
    "dictData = json.loads(x)"
   ]
  },
  {
   "cell_type": "code",
   "execution_count": 69,
   "metadata": {},
   "outputs": [
    {
     "data": {
      "text/plain": [
       "dict_values([{'0': 0, '1': 1, '2': 2, '3': 3, '4': 4}, {'0': '8a8b803a7cbdbb65017cbe19cb4f0770', '1': '8a8b803a7cbdbb65017cbe19ce1b0774', '2': '8a8b803a7cbdbb65017cbe19d0e60778', '3': '8a8b803a7cbdbb65017cbe19d3b0077c', '4': '8a8b803a7cbdbb65017cbe19d6790780'}, {'0': 1, '1': 1, '2': 1, '3': 1, '4': 1}, {'0': 1635276933967, '1': 1635276934683, '2': 1635276935398, '3': 1635276936111, '4': 1635276936825}, {'0': '089f5038-e0b5-4f6b-8401-9f9217a2341c', '1': '089f5038-e0b5-4f6b-8401-9f9217a2341c', '2': '089f5038-e0b5-4f6b-8401-9f9217a2341c', '3': '089f5038-e0b5-4f6b-8401-9f9217a2341c', '4': '089f5038-e0b5-4f6b-8401-9f9217a2341c'}, {'0': 0, '1': 0, '2': 0, '3': 0, '4': 0}, {'0': None, '1': None, '2': None, '3': None, '4': None}, {'0': 1635276933967, '1': 1635276934683, '2': 1635276935398, '3': 1635276936111, '4': 1635276936825}, {'0': None, '1': None, '2': None, '3': None, '4': None}, {'0': None, '1': None, '2': None, '3': None, '4': None}, {'0': None, '1': None, '2': None, '3': None, '4': None}, {'0': None, '1': None, '2': None, '3': None, '4': None}, {'0': None, '1': None, '2': None, '3': None, '4': None}, {'0': None, '1': None, '2': None, '3': None, '4': None}, {'0': None, '1': None, '2': None, '3': None, '4': None}, {'0': None, '1': None, '2': None, '3': None, '4': None}, {'0': None, '1': None, '2': None, '3': None, '4': None}, {'0': None, '1': None, '2': None, '3': None, '4': None}, {'0': 274752000000, '1': 621648000000, '2': 306288000000, '3': 873936000000, '4': 1000080000000}, {'0': None, '1': None, '2': None, '3': None, '4': None}, {'0': None, '1': None, '2': None, '3': None, '4': None}, {'0': None, '1': None, '2': None, '3': None, '4': None}, {'0': None, '1': None, '2': None, '3': None, '4': None}, {'0': None, '1': None, '2': None, '3': None, '4': None}, {'0': '089f5038-e0b5-4f6b-8401-9f9217a2341c', '1': '089f5038-e0b5-4f6b-8401-9f9217a2341c', '2': '089f5038-e0b5-4f6b-8401-9f9217a2341c', '3': '089f5038-e0b5-4f6b-8401-9f9217a2341c', '4': '089f5038-e0b5-4f6b-8401-9f9217a2341c'}, {'0': 'GOVIND ISHWAR PARMAR', '1': 'BHOLENATH GER', '2': 'KESHAR CHAUHAN', '3': 'RAJU KUMAR', '4': 'BAIDYANATH M'}, {'0': 'Male', '1': 'Male', '2': 'Female', '3': 'Male', '4': 'Male'}, {'0': None, '1': None, '2': None, '3': None, '4': None}, {'0': None, '1': None, '2': None, '3': None, '4': None}, {'0': None, '1': None, '2': None, '3': None, '4': None}, {'0': None, '1': None, '2': None, '3': None, '4': None}, {'0': None, '1': None, '2': None, '3': None, '4': None}, {'0': None, '1': None, '2': None, '3': None, '4': None}, {'0': None, '1': None, '2': None, '3': None, '4': None}, {'0': None, '1': None, '2': None, '3': None, '4': None}, {'0': None, '1': None, '2': None, '3': None, '4': None}, {'0': None, '1': None, '2': None, '3': None, '4': None}, {'0': None, '1': None, '2': None, '3': None, '4': None}, {'0': '7208301189', '1': '6295823235', '2': '9892244190', '3': '9892585479', '4': '8767489454'}, {'0': None, '1': None, '2': None, '3': None, '4': None}, {'0': None, '1': None, '2': None, '3': None, '4': None}, {'0': None, '1': None, '2': None, '3': None, '4': None}, {'0': None, '1': None, '2': None, '3': None, '4': None}, {'0': None, '1': None, '2': None, '3': None, '4': None}, {'0': None, '1': None, '2': None, '3': None, '4': None}, {'0': None, '1': None, '2': None, '3': None, '4': None}, {'0': '8a8b803a7c6e1a8c017c98dce2f40012', '1': '8a8b803a7c6e1a8c017c98dce2f40012', '2': '8a8b803a7c6e1a8c017c98dce2f40012', '3': '8a8b803a7c6e1a8c017c98dce2f40012', '4': '8a8b803a7c6e1a8c017c98dce2f40012'}, {'0': None, '1': None, '2': None, '3': None, '4': None}, {'0': None, '1': None, '2': None, '3': None, '4': None}, {'0': None, '1': None, '2': None, '3': None, '4': None}, {'0': None, '1': None, '2': None, '3': None, '4': None}, {'0': None, '1': None, '2': None, '3': None, '4': None}, {'0': None, '1': None, '2': None, '3': None, '4': None}, {'0': None, '1': None, '2': None, '3': None, '4': None}, {'0': None, '1': None, '2': None, '3': None, '4': None}, {'0': None, '1': None, '2': None, '3': None, '4': None}, {'0': None, '1': None, '2': None, '3': None, '4': None}, {'0': None, '1': None, '2': None, '3': None, '4': None}, {'0': 1646377239000, '1': 1646377239000, '2': 1646377239000, '3': 1646377239000, '4': 1646377239000}, {'0': None, '1': None, '2': None, '3': None, '4': None}, {'0': None, '1': None, '2': None, '3': None, '4': None}, {'0': None, '1': None, '2': None, '3': None, '4': None}, {'0': None, '1': None, '2': None, '3': None, '4': None}, {'0': None, '1': None, '2': None, '3': None, '4': None}, {'0': None, '1': None, '2': None, '3': None, '4': None}, {'0': 'NONE', '1': 'NONE', '2': 'NONE', '3': 'NONE', '4': 'NONE'}, {'0': 'NON_MIGRANT', '1': 'NON_MIGRANT', '2': 'NON_MIGRANT', '3': 'NON_MIGRANT', '4': 'NON_MIGRANT'}, {'0': None, '1': None, '2': None, '3': None, '4': None}, {'0': None, '1': None, '2': None, '3': None, '4': None}, {'0': None, '1': None, '2': None, '3': None, '4': None}, {'0': None, '1': None, '2': None, '3': None, '4': None}, {'0': 0.0, '1': 0.0, '2': 0.0, '3': 0.0, '4': 0.0}, {'0': None, '1': None, '2': None, '3': None, '4': None}, {'0': None, '1': None, '2': None, '3': None, '4': None}, {'0': None, '1': None, '2': None, '3': None, '4': None}, {'0': None, '1': None, '2': None, '3': None, '4': None}, {'0': None, '1': None, '2': None, '3': None, '4': None}, {'0': 0.0, '1': 0.0, '2': 0.0, '3': 0.0, '4': 0.0}, {'0': None, '1': None, '2': None, '3': None, '4': None}, {'0': 0.0, '1': 0.0, '2': 0.0, '3': 0.0, '4': 0.0}, {'0': None, '1': None, '2': None, '3': None, '4': None}])"
      ]
     },
     "execution_count": 69,
     "metadata": {},
     "output_type": "execute_result"
    }
   ],
   "source": [
    "dictData.values()"
   ]
  },
  {
   "cell_type": "code",
   "execution_count": 70,
   "metadata": {},
   "outputs": [
    {
     "data": {
      "text/plain": [
       "'{\"index\":{\"0\":0,\"1\":1,\"2\":2,\"3\":3,\"4\":4},\"id\":{\"0\":\"8a8b803a7cbdbb65017cbe19cb4f0770\",\"1\":\"8a8b803a7cbdbb65017cbe19ce1b0774\",\"2\":\"8a8b803a7cbdbb65017cbe19d0e60778\",\"3\":\"8a8b803a7cbdbb65017cbe19d3b0077c\",\"4\":\"8a8b803a7cbdbb65017cbe19d6790780\"},\"active\":{\"0\":1,\"1\":1,\"2\":1,\"3\":1,\"4\":1},\"created_at\":{\"0\":1635276933967,\"1\":1635276934683,\"2\":1635276935398,\"3\":1635276936111,\"4\":1635276936825},\"created_by\":{\"0\":\"089f5038-e0b5-4f6b-8401-9f9217a2341c\",\"1\":\"089f5038-e0b5-4f6b-8401-9f9217a2341c\",\"2\":\"089f5038-e0b5-4f6b-8401-9f9217a2341c\",\"3\":\"089f5038-e0b5-4f6b-8401-9f9217a2341c\",\"4\":\"089f5038-e0b5-4f6b-8401-9f9217a2341c\"},\"deleted\":{\"0\":0,\"1\":0,\"2\":0,\"3\":0,\"4\":0},\"last_modified_by\":{\"0\":null,\"1\":null,\"2\":null,\"3\":null,\"4\":null},\"modified_at\":{\"0\":1635276933967,\"1\":1635276934683,\"2\":1635276935398,\"3\":1635276936111,\"4\":1635276936825},\"age\":{\"0\":null,\"1\":null,\"2\":null,\"3\":null,\"4\":null},\"annual_household_income\":{\"0\":null,\"1\":null,\"2\":null,\"3\":null,\"4\":null},\"bank_account_no\":{\"0\":null,\"1\":null,\"2\":null,\"3\":null,\"4\":null},\"bank_name\":{\"0\":null,\"1\":null,\"2\":null,\"3\":null,\"4\":null},\"beneficiary_reference_id\":{\"0\":null,\"1\":null,\"2\":null,\"3\":null,\"4\":null},\"branch_name\":{\"0\":null,\"1\":null,\"2\":null,\"3\":null,\"4\":null},\"college_name\":{\"0\":null,\"1\":null,\"2\":null,\"3\":null,\"4\":null},\"college_passout_year\":{\"0\":null,\"1\":null,\"2\":null,\"3\":null,\"4\":null},\"consented\":{\"0\":null,\"1\":null,\"2\":null,\"3\":null,\"4\":null},\"digital_signature_url\":{\"0\":null,\"1\":null,\"2\":null,\"3\":null,\"4\":null},\"dob\":{\"0\":274752000000,\"1\":621648000000,\"2\":306288000000,\"3\":873936000000,\"4\":1000080000000},\"driving_licence_expiry_date\":{\"0\":null,\"1\":null,\"2\":null,\"3\":null,\"4\":null},\"driving_licence_issued_on\":{\"0\":null,\"1\":null,\"2\":null,\"3\":null,\"4\":null},\"driving_licence_no\":{\"0\":null,\"1\":null,\"2\":null,\"3\":null,\"4\":null},\"driving_licence_type\":{\"0\":null,\"1\":null,\"2\":null,\"3\":null,\"4\":null},\"email\":{\"0\":null,\"1\":null,\"2\":null,\"3\":null,\"4\":null},\"field_agent_id\":{\"0\":\"089f5038-e0b5-4f6b-8401-9f9217a2341c\",\"1\":\"089f5038-e0b5-4f6b-8401-9f9217a2341c\",\"2\":\"089f5038-e0b5-4f6b-8401-9f9217a2341c\",\"3\":\"089f5038-e0b5-4f6b-8401-9f9217a2341c\",\"4\":\"089f5038-e0b5-4f6b-8401-9f9217a2341c\"},\"first_name\":{\"0\":\"GOVIND ISHWAR PARMAR\",\"1\":\"BHOLENATH GER\",\"2\":\"KESHAR CHAUHAN\",\"3\":\"RAJU KUMAR\",\"4\":\"BAIDYANATH M\"},\"gender\":{\"0\":\"Male\",\"1\":\"Male\",\"2\":\"Female\",\"3\":\"Male\",\"4\":\"Male\"},\"highest_educational_qualification\":{\"0\":null,\"1\":null,\"2\":null,\"3\":null,\"4\":null},\"id_image_url\":{\"0\":null,\"1\":null,\"2\":null,\"3\":null,\"4\":null},\"ifsc_code\":{\"0\":null,\"1\":null,\"2\":null,\"3\":null,\"4\":null},\"income_currency\":{\"0\":null,\"1\":null,\"2\":null,\"3\":null,\"4\":null},\"income_source\":{\"0\":null,\"1\":null,\"2\":null,\"3\":null,\"4\":null},\"jan_dhan_account_no\":{\"0\":null,\"1\":null,\"2\":null,\"3\":null,\"4\":null},\"landline\":{\"0\":null,\"1\":null,\"2\":null,\"3\":null,\"4\":null},\"last_name\":{\"0\":null,\"1\":null,\"2\":null,\"3\":null,\"4\":null},\"marital_status\":{\"0\":null,\"1\":null,\"2\":null,\"3\":null,\"4\":null},\"middle_name\":{\"0\":null,\"1\":null,\"2\":null,\"3\":null,\"4\":null},\"mnrega_card_no\":{\"0\":null,\"1\":null,\"2\":null,\"3\":null,\"4\":null},\"mobile\":{\"0\":\"7208301189\",\"1\":\"6295823235\",\"2\":\"9892244190\",\"3\":\"9892585479\",\"4\":\"8767489454\"},\"monthly_income\":{\"0\":null,\"1\":null,\"2\":null,\"3\":null,\"4\":null},\"no_of_family_members\":{\"0\":null,\"1\":null,\"2\":null,\"3\":null,\"4\":null},\"other_image_url\":{\"0\":null,\"1\":null,\"2\":null,\"3\":null,\"4\":null},\"pancard\":{\"0\":null,\"1\":null,\"2\":null,\"3\":null,\"4\":null},\"passport_expiry_date\":{\"0\":null,\"1\":null,\"2\":null,\"3\":null,\"4\":null},\"passport_issued_on\":{\"0\":null,\"1\":null,\"2\":null,\"3\":null,\"4\":null},\"passport_no\":{\"0\":null,\"1\":null,\"2\":null,\"3\":null,\"4\":null},\"project_id\":{\"0\":\"8a8b803a7c6e1a8c017c98dce2f40012\",\"1\":\"8a8b803a7c6e1a8c017c98dce2f40012\",\"2\":\"8a8b803a7c6e1a8c017c98dce2f40012\",\"3\":\"8a8b803a7c6e1a8c017c98dce2f40012\",\"4\":\"8a8b803a7c6e1a8c017c98dce2f40012\"},\"ration_card_no\":{\"0\":null,\"1\":null,\"2\":null,\"3\":null,\"4\":null},\"ration_card_type\":{\"0\":null,\"1\":null,\"2\":null,\"3\":null,\"4\":null},\"school_name\":{\"0\":null,\"1\":null,\"2\":null,\"3\":null,\"4\":null},\"school_passout_year\":{\"0\":null,\"1\":null,\"2\":null,\"3\":null,\"4\":null},\"self_image_url\":{\"0\":null,\"1\":null,\"2\":null,\"3\":null,\"4\":null},\"terms_and_conditions\":{\"0\":null,\"1\":null,\"2\":null,\"3\":null,\"4\":null},\"voter_id\":{\"0\":null,\"1\":null,\"2\":null,\"3\":null,\"4\":null},\"educational_status\":{\"0\":null,\"1\":null,\"2\":null,\"3\":null,\"4\":null},\"language_id\":{\"0\":null,\"1\":null,\"2\":null,\"3\":null,\"4\":null},\"primary_occupation\":{\"0\":null,\"1\":null,\"2\":null,\"3\":null,\"4\":null},\"secondary_occupation\":{\"0\":null,\"1\":null,\"2\":null,\"3\":null,\"4\":null},\"synced_at\":{\"0\":1646377239000,\"1\":1646377239000,\"2\":1646377239000,\"3\":1646377239000,\"4\":1646377239000},\"digital_signature_url_name\":{\"0\":null,\"1\":null,\"2\":null,\"3\":null,\"4\":null},\"id_image_url_name\":{\"0\":null,\"1\":null,\"2\":null,\"3\":null,\"4\":null},\"other_image_url_name\":{\"0\":null,\"1\":null,\"2\":null,\"3\":null,\"4\":null},\"self_image_url_name\":{\"0\":null,\"1\":null,\"2\":null,\"3\":null,\"4\":null},\"id_card_number\":{\"0\":null,\"1\":null,\"2\":null,\"3\":null,\"4\":null},\"is_verified\":{\"0\":null,\"1\":null,\"2\":null,\"3\":null,\"4\":null},\"delete_request\":{\"0\":\"NONE\",\"1\":\"NONE\",\"2\":\"NONE\",\"3\":\"NONE\",\"4\":\"NONE\"},\"migrant\":{\"0\":\"NON_MIGRANT\",\"1\":\"NON_MIGRANT\",\"2\":\"NON_MIGRANT\",\"3\":\"NON_MIGRANT\",\"4\":\"NON_MIGRANT\"},\"mobile_type\":{\"0\":null,\"1\":null,\"2\":null,\"3\":null,\"4\":null},\"secondary_mobile\":{\"0\":null,\"1\":null,\"2\":null,\"3\":null,\"4\":null},\"secondary_mobile_type\":{\"0\":null,\"1\":null,\"2\":null,\"3\":null,\"4\":null},\"monthly_income_range_id\":{\"0\":null,\"1\":null,\"2\":null,\"3\":null,\"4\":null},\"highest_educational_passout_year\":{\"0\":0.0,\"1\":0.0,\"2\":0.0,\"3\":0.0,\"4\":0.0},\"is_migrant\":{\"0\":null,\"1\":null,\"2\":null,\"3\":null,\"4\":null},\"referance_image_url\":{\"0\":null,\"1\":null,\"2\":null,\"3\":null,\"4\":null},\"referance_image_url_name\":{\"0\":null,\"1\":null,\"2\":null,\"3\":null,\"4\":null},\"user_entity_id\":{\"0\":null,\"1\":null,\"2\":null,\"3\":null,\"4\":null},\"ftp_imported_user\":{\"0\":null,\"1\":null,\"2\":null,\"3\":null,\"4\":null},\"diploma_passout_year\":{\"0\":0.0,\"1\":0.0,\"2\":0.0,\"3\":0.0,\"4\":0.0},\"diploma_school_name\":{\"0\":null,\"1\":null,\"2\":null,\"3\":null,\"4\":null},\"hsc_passout_year\":{\"0\":0.0,\"1\":0.0,\"2\":0.0,\"3\":0.0,\"4\":0.0},\"hsc_school_name\":{\"0\":null,\"1\":null,\"2\":null,\"3\":null,\"4\":null}}'"
      ]
     },
     "execution_count": 70,
     "metadata": {},
     "output_type": "execute_result"
    }
   ],
   "source": [
    "x"
   ]
  },
  {
   "cell_type": "code",
   "execution_count": 52,
   "metadata": {},
   "outputs": [],
   "source": [
    "d = {\"key\": \"Value\", \"key1\": \"value1\"}"
   ]
  },
  {
   "cell_type": "code",
   "execution_count": 53,
   "metadata": {},
   "outputs": [
    {
     "data": {
      "text/plain": [
       "dict_keys(['key', 'key1'])"
      ]
     },
     "execution_count": 53,
     "metadata": {},
     "output_type": "execute_result"
    }
   ],
   "source": [
    "d.keys()"
   ]
  },
  {
   "cell_type": "code",
   "execution_count": 54,
   "metadata": {},
   "outputs": [
    {
     "data": {
      "text/plain": [
       "dict_values(['Value', 'value1'])"
      ]
     },
     "execution_count": 54,
     "metadata": {},
     "output_type": "execute_result"
    }
   ],
   "source": [
    "d.values()"
   ]
  },
  {
   "cell_type": "code",
   "execution_count": 71,
   "metadata": {},
   "outputs": [],
   "source": [
    "dictData_T = json.loads(y)"
   ]
  },
  {
   "cell_type": "code",
   "execution_count": 72,
   "metadata": {},
   "outputs": [
    {
     "data": {
      "text/plain": [
       "{'0': {'index': 0,\n",
       "  'id': '8a8b803a7cbdbb65017cbe19cb4f0770',\n",
       "  'active': 1,\n",
       "  'created_at': 1635276933967,\n",
       "  'created_by': '089f5038-e0b5-4f6b-8401-9f9217a2341c',\n",
       "  'deleted': 0,\n",
       "  'last_modified_by': None,\n",
       "  'modified_at': 1635276933967,\n",
       "  'age': None,\n",
       "  'annual_household_income': None,\n",
       "  'bank_account_no': None,\n",
       "  'bank_name': None,\n",
       "  'beneficiary_reference_id': None,\n",
       "  'branch_name': None,\n",
       "  'college_name': None,\n",
       "  'college_passout_year': None,\n",
       "  'consented': None,\n",
       "  'digital_signature_url': None,\n",
       "  'dob': 274752000000,\n",
       "  'driving_licence_expiry_date': None,\n",
       "  'driving_licence_issued_on': None,\n",
       "  'driving_licence_no': None,\n",
       "  'driving_licence_type': None,\n",
       "  'email': None,\n",
       "  'field_agent_id': '089f5038-e0b5-4f6b-8401-9f9217a2341c',\n",
       "  'first_name': 'GOVIND ISHWAR PARMAR',\n",
       "  'gender': 'Male',\n",
       "  'highest_educational_qualification': None,\n",
       "  'id_image_url': None,\n",
       "  'ifsc_code': None,\n",
       "  'income_currency': None,\n",
       "  'income_source': None,\n",
       "  'jan_dhan_account_no': None,\n",
       "  'landline': None,\n",
       "  'last_name': None,\n",
       "  'marital_status': None,\n",
       "  'middle_name': None,\n",
       "  'mnrega_card_no': None,\n",
       "  'mobile': '7208301189',\n",
       "  'monthly_income': None,\n",
       "  'no_of_family_members': None,\n",
       "  'other_image_url': None,\n",
       "  'pancard': None,\n",
       "  'passport_expiry_date': None,\n",
       "  'passport_issued_on': None,\n",
       "  'passport_no': None,\n",
       "  'project_id': '8a8b803a7c6e1a8c017c98dce2f40012',\n",
       "  'ration_card_no': None,\n",
       "  'ration_card_type': None,\n",
       "  'school_name': None,\n",
       "  'school_passout_year': None,\n",
       "  'self_image_url': None,\n",
       "  'terms_and_conditions': None,\n",
       "  'voter_id': None,\n",
       "  'educational_status': None,\n",
       "  'language_id': None,\n",
       "  'primary_occupation': None,\n",
       "  'secondary_occupation': None,\n",
       "  'synced_at': 1646377239000,\n",
       "  'digital_signature_url_name': None,\n",
       "  'id_image_url_name': None,\n",
       "  'other_image_url_name': None,\n",
       "  'self_image_url_name': None,\n",
       "  'id_card_number': None,\n",
       "  'is_verified': None,\n",
       "  'delete_request': 'NONE',\n",
       "  'migrant': 'NON_MIGRANT',\n",
       "  'mobile_type': None,\n",
       "  'secondary_mobile': None,\n",
       "  'secondary_mobile_type': None,\n",
       "  'monthly_income_range_id': None,\n",
       "  'highest_educational_passout_year': 0.0,\n",
       "  'is_migrant': None,\n",
       "  'referance_image_url': None,\n",
       "  'referance_image_url_name': None,\n",
       "  'user_entity_id': None,\n",
       "  'ftp_imported_user': None,\n",
       "  'diploma_passout_year': 0.0,\n",
       "  'diploma_school_name': None,\n",
       "  'hsc_passout_year': 0.0,\n",
       "  'hsc_school_name': None},\n",
       " '1': {'index': 1,\n",
       "  'id': '8a8b803a7cbdbb65017cbe19ce1b0774',\n",
       "  'active': 1,\n",
       "  'created_at': 1635276934683,\n",
       "  'created_by': '089f5038-e0b5-4f6b-8401-9f9217a2341c',\n",
       "  'deleted': 0,\n",
       "  'last_modified_by': None,\n",
       "  'modified_at': 1635276934683,\n",
       "  'age': None,\n",
       "  'annual_household_income': None,\n",
       "  'bank_account_no': None,\n",
       "  'bank_name': None,\n",
       "  'beneficiary_reference_id': None,\n",
       "  'branch_name': None,\n",
       "  'college_name': None,\n",
       "  'college_passout_year': None,\n",
       "  'consented': None,\n",
       "  'digital_signature_url': None,\n",
       "  'dob': 621648000000,\n",
       "  'driving_licence_expiry_date': None,\n",
       "  'driving_licence_issued_on': None,\n",
       "  'driving_licence_no': None,\n",
       "  'driving_licence_type': None,\n",
       "  'email': None,\n",
       "  'field_agent_id': '089f5038-e0b5-4f6b-8401-9f9217a2341c',\n",
       "  'first_name': 'BHOLENATH GER',\n",
       "  'gender': 'Male',\n",
       "  'highest_educational_qualification': None,\n",
       "  'id_image_url': None,\n",
       "  'ifsc_code': None,\n",
       "  'income_currency': None,\n",
       "  'income_source': None,\n",
       "  'jan_dhan_account_no': None,\n",
       "  'landline': None,\n",
       "  'last_name': None,\n",
       "  'marital_status': None,\n",
       "  'middle_name': None,\n",
       "  'mnrega_card_no': None,\n",
       "  'mobile': '6295823235',\n",
       "  'monthly_income': None,\n",
       "  'no_of_family_members': None,\n",
       "  'other_image_url': None,\n",
       "  'pancard': None,\n",
       "  'passport_expiry_date': None,\n",
       "  'passport_issued_on': None,\n",
       "  'passport_no': None,\n",
       "  'project_id': '8a8b803a7c6e1a8c017c98dce2f40012',\n",
       "  'ration_card_no': None,\n",
       "  'ration_card_type': None,\n",
       "  'school_name': None,\n",
       "  'school_passout_year': None,\n",
       "  'self_image_url': None,\n",
       "  'terms_and_conditions': None,\n",
       "  'voter_id': None,\n",
       "  'educational_status': None,\n",
       "  'language_id': None,\n",
       "  'primary_occupation': None,\n",
       "  'secondary_occupation': None,\n",
       "  'synced_at': 1646377239000,\n",
       "  'digital_signature_url_name': None,\n",
       "  'id_image_url_name': None,\n",
       "  'other_image_url_name': None,\n",
       "  'self_image_url_name': None,\n",
       "  'id_card_number': None,\n",
       "  'is_verified': None,\n",
       "  'delete_request': 'NONE',\n",
       "  'migrant': 'NON_MIGRANT',\n",
       "  'mobile_type': None,\n",
       "  'secondary_mobile': None,\n",
       "  'secondary_mobile_type': None,\n",
       "  'monthly_income_range_id': None,\n",
       "  'highest_educational_passout_year': 0.0,\n",
       "  'is_migrant': None,\n",
       "  'referance_image_url': None,\n",
       "  'referance_image_url_name': None,\n",
       "  'user_entity_id': None,\n",
       "  'ftp_imported_user': None,\n",
       "  'diploma_passout_year': 0.0,\n",
       "  'diploma_school_name': None,\n",
       "  'hsc_passout_year': 0.0,\n",
       "  'hsc_school_name': None},\n",
       " '2': {'index': 2,\n",
       "  'id': '8a8b803a7cbdbb65017cbe19d0e60778',\n",
       "  'active': 1,\n",
       "  'created_at': 1635276935398,\n",
       "  'created_by': '089f5038-e0b5-4f6b-8401-9f9217a2341c',\n",
       "  'deleted': 0,\n",
       "  'last_modified_by': None,\n",
       "  'modified_at': 1635276935398,\n",
       "  'age': None,\n",
       "  'annual_household_income': None,\n",
       "  'bank_account_no': None,\n",
       "  'bank_name': None,\n",
       "  'beneficiary_reference_id': None,\n",
       "  'branch_name': None,\n",
       "  'college_name': None,\n",
       "  'college_passout_year': None,\n",
       "  'consented': None,\n",
       "  'digital_signature_url': None,\n",
       "  'dob': 306288000000,\n",
       "  'driving_licence_expiry_date': None,\n",
       "  'driving_licence_issued_on': None,\n",
       "  'driving_licence_no': None,\n",
       "  'driving_licence_type': None,\n",
       "  'email': None,\n",
       "  'field_agent_id': '089f5038-e0b5-4f6b-8401-9f9217a2341c',\n",
       "  'first_name': 'KESHAR CHAUHAN',\n",
       "  'gender': 'Female',\n",
       "  'highest_educational_qualification': None,\n",
       "  'id_image_url': None,\n",
       "  'ifsc_code': None,\n",
       "  'income_currency': None,\n",
       "  'income_source': None,\n",
       "  'jan_dhan_account_no': None,\n",
       "  'landline': None,\n",
       "  'last_name': None,\n",
       "  'marital_status': None,\n",
       "  'middle_name': None,\n",
       "  'mnrega_card_no': None,\n",
       "  'mobile': '9892244190',\n",
       "  'monthly_income': None,\n",
       "  'no_of_family_members': None,\n",
       "  'other_image_url': None,\n",
       "  'pancard': None,\n",
       "  'passport_expiry_date': None,\n",
       "  'passport_issued_on': None,\n",
       "  'passport_no': None,\n",
       "  'project_id': '8a8b803a7c6e1a8c017c98dce2f40012',\n",
       "  'ration_card_no': None,\n",
       "  'ration_card_type': None,\n",
       "  'school_name': None,\n",
       "  'school_passout_year': None,\n",
       "  'self_image_url': None,\n",
       "  'terms_and_conditions': None,\n",
       "  'voter_id': None,\n",
       "  'educational_status': None,\n",
       "  'language_id': None,\n",
       "  'primary_occupation': None,\n",
       "  'secondary_occupation': None,\n",
       "  'synced_at': 1646377239000,\n",
       "  'digital_signature_url_name': None,\n",
       "  'id_image_url_name': None,\n",
       "  'other_image_url_name': None,\n",
       "  'self_image_url_name': None,\n",
       "  'id_card_number': None,\n",
       "  'is_verified': None,\n",
       "  'delete_request': 'NONE',\n",
       "  'migrant': 'NON_MIGRANT',\n",
       "  'mobile_type': None,\n",
       "  'secondary_mobile': None,\n",
       "  'secondary_mobile_type': None,\n",
       "  'monthly_income_range_id': None,\n",
       "  'highest_educational_passout_year': 0.0,\n",
       "  'is_migrant': None,\n",
       "  'referance_image_url': None,\n",
       "  'referance_image_url_name': None,\n",
       "  'user_entity_id': None,\n",
       "  'ftp_imported_user': None,\n",
       "  'diploma_passout_year': 0.0,\n",
       "  'diploma_school_name': None,\n",
       "  'hsc_passout_year': 0.0,\n",
       "  'hsc_school_name': None},\n",
       " '3': {'index': 3,\n",
       "  'id': '8a8b803a7cbdbb65017cbe19d3b0077c',\n",
       "  'active': 1,\n",
       "  'created_at': 1635276936111,\n",
       "  'created_by': '089f5038-e0b5-4f6b-8401-9f9217a2341c',\n",
       "  'deleted': 0,\n",
       "  'last_modified_by': None,\n",
       "  'modified_at': 1635276936111,\n",
       "  'age': None,\n",
       "  'annual_household_income': None,\n",
       "  'bank_account_no': None,\n",
       "  'bank_name': None,\n",
       "  'beneficiary_reference_id': None,\n",
       "  'branch_name': None,\n",
       "  'college_name': None,\n",
       "  'college_passout_year': None,\n",
       "  'consented': None,\n",
       "  'digital_signature_url': None,\n",
       "  'dob': 873936000000,\n",
       "  'driving_licence_expiry_date': None,\n",
       "  'driving_licence_issued_on': None,\n",
       "  'driving_licence_no': None,\n",
       "  'driving_licence_type': None,\n",
       "  'email': None,\n",
       "  'field_agent_id': '089f5038-e0b5-4f6b-8401-9f9217a2341c',\n",
       "  'first_name': 'RAJU KUMAR',\n",
       "  'gender': 'Male',\n",
       "  'highest_educational_qualification': None,\n",
       "  'id_image_url': None,\n",
       "  'ifsc_code': None,\n",
       "  'income_currency': None,\n",
       "  'income_source': None,\n",
       "  'jan_dhan_account_no': None,\n",
       "  'landline': None,\n",
       "  'last_name': None,\n",
       "  'marital_status': None,\n",
       "  'middle_name': None,\n",
       "  'mnrega_card_no': None,\n",
       "  'mobile': '9892585479',\n",
       "  'monthly_income': None,\n",
       "  'no_of_family_members': None,\n",
       "  'other_image_url': None,\n",
       "  'pancard': None,\n",
       "  'passport_expiry_date': None,\n",
       "  'passport_issued_on': None,\n",
       "  'passport_no': None,\n",
       "  'project_id': '8a8b803a7c6e1a8c017c98dce2f40012',\n",
       "  'ration_card_no': None,\n",
       "  'ration_card_type': None,\n",
       "  'school_name': None,\n",
       "  'school_passout_year': None,\n",
       "  'self_image_url': None,\n",
       "  'terms_and_conditions': None,\n",
       "  'voter_id': None,\n",
       "  'educational_status': None,\n",
       "  'language_id': None,\n",
       "  'primary_occupation': None,\n",
       "  'secondary_occupation': None,\n",
       "  'synced_at': 1646377239000,\n",
       "  'digital_signature_url_name': None,\n",
       "  'id_image_url_name': None,\n",
       "  'other_image_url_name': None,\n",
       "  'self_image_url_name': None,\n",
       "  'id_card_number': None,\n",
       "  'is_verified': None,\n",
       "  'delete_request': 'NONE',\n",
       "  'migrant': 'NON_MIGRANT',\n",
       "  'mobile_type': None,\n",
       "  'secondary_mobile': None,\n",
       "  'secondary_mobile_type': None,\n",
       "  'monthly_income_range_id': None,\n",
       "  'highest_educational_passout_year': 0.0,\n",
       "  'is_migrant': None,\n",
       "  'referance_image_url': None,\n",
       "  'referance_image_url_name': None,\n",
       "  'user_entity_id': None,\n",
       "  'ftp_imported_user': None,\n",
       "  'diploma_passout_year': 0.0,\n",
       "  'diploma_school_name': None,\n",
       "  'hsc_passout_year': 0.0,\n",
       "  'hsc_school_name': None},\n",
       " '4': {'index': 4,\n",
       "  'id': '8a8b803a7cbdbb65017cbe19d6790780',\n",
       "  'active': 1,\n",
       "  'created_at': 1635276936825,\n",
       "  'created_by': '089f5038-e0b5-4f6b-8401-9f9217a2341c',\n",
       "  'deleted': 0,\n",
       "  'last_modified_by': None,\n",
       "  'modified_at': 1635276936825,\n",
       "  'age': None,\n",
       "  'annual_household_income': None,\n",
       "  'bank_account_no': None,\n",
       "  'bank_name': None,\n",
       "  'beneficiary_reference_id': None,\n",
       "  'branch_name': None,\n",
       "  'college_name': None,\n",
       "  'college_passout_year': None,\n",
       "  'consented': None,\n",
       "  'digital_signature_url': None,\n",
       "  'dob': 1000080000000,\n",
       "  'driving_licence_expiry_date': None,\n",
       "  'driving_licence_issued_on': None,\n",
       "  'driving_licence_no': None,\n",
       "  'driving_licence_type': None,\n",
       "  'email': None,\n",
       "  'field_agent_id': '089f5038-e0b5-4f6b-8401-9f9217a2341c',\n",
       "  'first_name': 'BAIDYANATH M',\n",
       "  'gender': 'Male',\n",
       "  'highest_educational_qualification': None,\n",
       "  'id_image_url': None,\n",
       "  'ifsc_code': None,\n",
       "  'income_currency': None,\n",
       "  'income_source': None,\n",
       "  'jan_dhan_account_no': None,\n",
       "  'landline': None,\n",
       "  'last_name': None,\n",
       "  'marital_status': None,\n",
       "  'middle_name': None,\n",
       "  'mnrega_card_no': None,\n",
       "  'mobile': '8767489454',\n",
       "  'monthly_income': None,\n",
       "  'no_of_family_members': None,\n",
       "  'other_image_url': None,\n",
       "  'pancard': None,\n",
       "  'passport_expiry_date': None,\n",
       "  'passport_issued_on': None,\n",
       "  'passport_no': None,\n",
       "  'project_id': '8a8b803a7c6e1a8c017c98dce2f40012',\n",
       "  'ration_card_no': None,\n",
       "  'ration_card_type': None,\n",
       "  'school_name': None,\n",
       "  'school_passout_year': None,\n",
       "  'self_image_url': None,\n",
       "  'terms_and_conditions': None,\n",
       "  'voter_id': None,\n",
       "  'educational_status': None,\n",
       "  'language_id': None,\n",
       "  'primary_occupation': None,\n",
       "  'secondary_occupation': None,\n",
       "  'synced_at': 1646377239000,\n",
       "  'digital_signature_url_name': None,\n",
       "  'id_image_url_name': None,\n",
       "  'other_image_url_name': None,\n",
       "  'self_image_url_name': None,\n",
       "  'id_card_number': None,\n",
       "  'is_verified': None,\n",
       "  'delete_request': 'NONE',\n",
       "  'migrant': 'NON_MIGRANT',\n",
       "  'mobile_type': None,\n",
       "  'secondary_mobile': None,\n",
       "  'secondary_mobile_type': None,\n",
       "  'monthly_income_range_id': None,\n",
       "  'highest_educational_passout_year': 0.0,\n",
       "  'is_migrant': None,\n",
       "  'referance_image_url': None,\n",
       "  'referance_image_url_name': None,\n",
       "  'user_entity_id': None,\n",
       "  'ftp_imported_user': None,\n",
       "  'diploma_passout_year': 0.0,\n",
       "  'diploma_school_name': None,\n",
       "  'hsc_passout_year': 0.0,\n",
       "  'hsc_school_name': None}}"
      ]
     },
     "execution_count": 72,
     "metadata": {},
     "output_type": "execute_result"
    }
   ],
   "source": [
    "dictData_T"
   ]
  },
  {
   "cell_type": "code",
   "execution_count": 73,
   "metadata": {},
   "outputs": [
    {
     "data": {
      "text/plain": [
       "dict_values([{'index': 0, 'id': '8a8b803a7cbdbb65017cbe19cb4f0770', 'active': 1, 'created_at': 1635276933967, 'created_by': '089f5038-e0b5-4f6b-8401-9f9217a2341c', 'deleted': 0, 'last_modified_by': None, 'modified_at': 1635276933967, 'age': None, 'annual_household_income': None, 'bank_account_no': None, 'bank_name': None, 'beneficiary_reference_id': None, 'branch_name': None, 'college_name': None, 'college_passout_year': None, 'consented': None, 'digital_signature_url': None, 'dob': 274752000000, 'driving_licence_expiry_date': None, 'driving_licence_issued_on': None, 'driving_licence_no': None, 'driving_licence_type': None, 'email': None, 'field_agent_id': '089f5038-e0b5-4f6b-8401-9f9217a2341c', 'first_name': 'GOVIND ISHWAR PARMAR', 'gender': 'Male', 'highest_educational_qualification': None, 'id_image_url': None, 'ifsc_code': None, 'income_currency': None, 'income_source': None, 'jan_dhan_account_no': None, 'landline': None, 'last_name': None, 'marital_status': None, 'middle_name': None, 'mnrega_card_no': None, 'mobile': '7208301189', 'monthly_income': None, 'no_of_family_members': None, 'other_image_url': None, 'pancard': None, 'passport_expiry_date': None, 'passport_issued_on': None, 'passport_no': None, 'project_id': '8a8b803a7c6e1a8c017c98dce2f40012', 'ration_card_no': None, 'ration_card_type': None, 'school_name': None, 'school_passout_year': None, 'self_image_url': None, 'terms_and_conditions': None, 'voter_id': None, 'educational_status': None, 'language_id': None, 'primary_occupation': None, 'secondary_occupation': None, 'synced_at': 1646377239000, 'digital_signature_url_name': None, 'id_image_url_name': None, 'other_image_url_name': None, 'self_image_url_name': None, 'id_card_number': None, 'is_verified': None, 'delete_request': 'NONE', 'migrant': 'NON_MIGRANT', 'mobile_type': None, 'secondary_mobile': None, 'secondary_mobile_type': None, 'monthly_income_range_id': None, 'highest_educational_passout_year': 0.0, 'is_migrant': None, 'referance_image_url': None, 'referance_image_url_name': None, 'user_entity_id': None, 'ftp_imported_user': None, 'diploma_passout_year': 0.0, 'diploma_school_name': None, 'hsc_passout_year': 0.0, 'hsc_school_name': None}, {'index': 1, 'id': '8a8b803a7cbdbb65017cbe19ce1b0774', 'active': 1, 'created_at': 1635276934683, 'created_by': '089f5038-e0b5-4f6b-8401-9f9217a2341c', 'deleted': 0, 'last_modified_by': None, 'modified_at': 1635276934683, 'age': None, 'annual_household_income': None, 'bank_account_no': None, 'bank_name': None, 'beneficiary_reference_id': None, 'branch_name': None, 'college_name': None, 'college_passout_year': None, 'consented': None, 'digital_signature_url': None, 'dob': 621648000000, 'driving_licence_expiry_date': None, 'driving_licence_issued_on': None, 'driving_licence_no': None, 'driving_licence_type': None, 'email': None, 'field_agent_id': '089f5038-e0b5-4f6b-8401-9f9217a2341c', 'first_name': 'BHOLENATH GER', 'gender': 'Male', 'highest_educational_qualification': None, 'id_image_url': None, 'ifsc_code': None, 'income_currency': None, 'income_source': None, 'jan_dhan_account_no': None, 'landline': None, 'last_name': None, 'marital_status': None, 'middle_name': None, 'mnrega_card_no': None, 'mobile': '6295823235', 'monthly_income': None, 'no_of_family_members': None, 'other_image_url': None, 'pancard': None, 'passport_expiry_date': None, 'passport_issued_on': None, 'passport_no': None, 'project_id': '8a8b803a7c6e1a8c017c98dce2f40012', 'ration_card_no': None, 'ration_card_type': None, 'school_name': None, 'school_passout_year': None, 'self_image_url': None, 'terms_and_conditions': None, 'voter_id': None, 'educational_status': None, 'language_id': None, 'primary_occupation': None, 'secondary_occupation': None, 'synced_at': 1646377239000, 'digital_signature_url_name': None, 'id_image_url_name': None, 'other_image_url_name': None, 'self_image_url_name': None, 'id_card_number': None, 'is_verified': None, 'delete_request': 'NONE', 'migrant': 'NON_MIGRANT', 'mobile_type': None, 'secondary_mobile': None, 'secondary_mobile_type': None, 'monthly_income_range_id': None, 'highest_educational_passout_year': 0.0, 'is_migrant': None, 'referance_image_url': None, 'referance_image_url_name': None, 'user_entity_id': None, 'ftp_imported_user': None, 'diploma_passout_year': 0.0, 'diploma_school_name': None, 'hsc_passout_year': 0.0, 'hsc_school_name': None}, {'index': 2, 'id': '8a8b803a7cbdbb65017cbe19d0e60778', 'active': 1, 'created_at': 1635276935398, 'created_by': '089f5038-e0b5-4f6b-8401-9f9217a2341c', 'deleted': 0, 'last_modified_by': None, 'modified_at': 1635276935398, 'age': None, 'annual_household_income': None, 'bank_account_no': None, 'bank_name': None, 'beneficiary_reference_id': None, 'branch_name': None, 'college_name': None, 'college_passout_year': None, 'consented': None, 'digital_signature_url': None, 'dob': 306288000000, 'driving_licence_expiry_date': None, 'driving_licence_issued_on': None, 'driving_licence_no': None, 'driving_licence_type': None, 'email': None, 'field_agent_id': '089f5038-e0b5-4f6b-8401-9f9217a2341c', 'first_name': 'KESHAR CHAUHAN', 'gender': 'Female', 'highest_educational_qualification': None, 'id_image_url': None, 'ifsc_code': None, 'income_currency': None, 'income_source': None, 'jan_dhan_account_no': None, 'landline': None, 'last_name': None, 'marital_status': None, 'middle_name': None, 'mnrega_card_no': None, 'mobile': '9892244190', 'monthly_income': None, 'no_of_family_members': None, 'other_image_url': None, 'pancard': None, 'passport_expiry_date': None, 'passport_issued_on': None, 'passport_no': None, 'project_id': '8a8b803a7c6e1a8c017c98dce2f40012', 'ration_card_no': None, 'ration_card_type': None, 'school_name': None, 'school_passout_year': None, 'self_image_url': None, 'terms_and_conditions': None, 'voter_id': None, 'educational_status': None, 'language_id': None, 'primary_occupation': None, 'secondary_occupation': None, 'synced_at': 1646377239000, 'digital_signature_url_name': None, 'id_image_url_name': None, 'other_image_url_name': None, 'self_image_url_name': None, 'id_card_number': None, 'is_verified': None, 'delete_request': 'NONE', 'migrant': 'NON_MIGRANT', 'mobile_type': None, 'secondary_mobile': None, 'secondary_mobile_type': None, 'monthly_income_range_id': None, 'highest_educational_passout_year': 0.0, 'is_migrant': None, 'referance_image_url': None, 'referance_image_url_name': None, 'user_entity_id': None, 'ftp_imported_user': None, 'diploma_passout_year': 0.0, 'diploma_school_name': None, 'hsc_passout_year': 0.0, 'hsc_school_name': None}, {'index': 3, 'id': '8a8b803a7cbdbb65017cbe19d3b0077c', 'active': 1, 'created_at': 1635276936111, 'created_by': '089f5038-e0b5-4f6b-8401-9f9217a2341c', 'deleted': 0, 'last_modified_by': None, 'modified_at': 1635276936111, 'age': None, 'annual_household_income': None, 'bank_account_no': None, 'bank_name': None, 'beneficiary_reference_id': None, 'branch_name': None, 'college_name': None, 'college_passout_year': None, 'consented': None, 'digital_signature_url': None, 'dob': 873936000000, 'driving_licence_expiry_date': None, 'driving_licence_issued_on': None, 'driving_licence_no': None, 'driving_licence_type': None, 'email': None, 'field_agent_id': '089f5038-e0b5-4f6b-8401-9f9217a2341c', 'first_name': 'RAJU KUMAR', 'gender': 'Male', 'highest_educational_qualification': None, 'id_image_url': None, 'ifsc_code': None, 'income_currency': None, 'income_source': None, 'jan_dhan_account_no': None, 'landline': None, 'last_name': None, 'marital_status': None, 'middle_name': None, 'mnrega_card_no': None, 'mobile': '9892585479', 'monthly_income': None, 'no_of_family_members': None, 'other_image_url': None, 'pancard': None, 'passport_expiry_date': None, 'passport_issued_on': None, 'passport_no': None, 'project_id': '8a8b803a7c6e1a8c017c98dce2f40012', 'ration_card_no': None, 'ration_card_type': None, 'school_name': None, 'school_passout_year': None, 'self_image_url': None, 'terms_and_conditions': None, 'voter_id': None, 'educational_status': None, 'language_id': None, 'primary_occupation': None, 'secondary_occupation': None, 'synced_at': 1646377239000, 'digital_signature_url_name': None, 'id_image_url_name': None, 'other_image_url_name': None, 'self_image_url_name': None, 'id_card_number': None, 'is_verified': None, 'delete_request': 'NONE', 'migrant': 'NON_MIGRANT', 'mobile_type': None, 'secondary_mobile': None, 'secondary_mobile_type': None, 'monthly_income_range_id': None, 'highest_educational_passout_year': 0.0, 'is_migrant': None, 'referance_image_url': None, 'referance_image_url_name': None, 'user_entity_id': None, 'ftp_imported_user': None, 'diploma_passout_year': 0.0, 'diploma_school_name': None, 'hsc_passout_year': 0.0, 'hsc_school_name': None}, {'index': 4, 'id': '8a8b803a7cbdbb65017cbe19d6790780', 'active': 1, 'created_at': 1635276936825, 'created_by': '089f5038-e0b5-4f6b-8401-9f9217a2341c', 'deleted': 0, 'last_modified_by': None, 'modified_at': 1635276936825, 'age': None, 'annual_household_income': None, 'bank_account_no': None, 'bank_name': None, 'beneficiary_reference_id': None, 'branch_name': None, 'college_name': None, 'college_passout_year': None, 'consented': None, 'digital_signature_url': None, 'dob': 1000080000000, 'driving_licence_expiry_date': None, 'driving_licence_issued_on': None, 'driving_licence_no': None, 'driving_licence_type': None, 'email': None, 'field_agent_id': '089f5038-e0b5-4f6b-8401-9f9217a2341c', 'first_name': 'BAIDYANATH M', 'gender': 'Male', 'highest_educational_qualification': None, 'id_image_url': None, 'ifsc_code': None, 'income_currency': None, 'income_source': None, 'jan_dhan_account_no': None, 'landline': None, 'last_name': None, 'marital_status': None, 'middle_name': None, 'mnrega_card_no': None, 'mobile': '8767489454', 'monthly_income': None, 'no_of_family_members': None, 'other_image_url': None, 'pancard': None, 'passport_expiry_date': None, 'passport_issued_on': None, 'passport_no': None, 'project_id': '8a8b803a7c6e1a8c017c98dce2f40012', 'ration_card_no': None, 'ration_card_type': None, 'school_name': None, 'school_passout_year': None, 'self_image_url': None, 'terms_and_conditions': None, 'voter_id': None, 'educational_status': None, 'language_id': None, 'primary_occupation': None, 'secondary_occupation': None, 'synced_at': 1646377239000, 'digital_signature_url_name': None, 'id_image_url_name': None, 'other_image_url_name': None, 'self_image_url_name': None, 'id_card_number': None, 'is_verified': None, 'delete_request': 'NONE', 'migrant': 'NON_MIGRANT', 'mobile_type': None, 'secondary_mobile': None, 'secondary_mobile_type': None, 'monthly_income_range_id': None, 'highest_educational_passout_year': 0.0, 'is_migrant': None, 'referance_image_url': None, 'referance_image_url_name': None, 'user_entity_id': None, 'ftp_imported_user': None, 'diploma_passout_year': 0.0, 'diploma_school_name': None, 'hsc_passout_year': 0.0, 'hsc_school_name': None}])"
      ]
     },
     "execution_count": 73,
     "metadata": {},
     "output_type": "execute_result"
    }
   ],
   "source": [
    "dictData_T.values()"
   ]
  },
  {
   "cell_type": "code",
   "execution_count": 74,
   "metadata": {},
   "outputs": [
    {
     "data": {
      "text/html": [
       "<div>\n",
       "<style scoped>\n",
       "    .dataframe tbody tr th:only-of-type {\n",
       "        vertical-align: middle;\n",
       "    }\n",
       "\n",
       "    .dataframe tbody tr th {\n",
       "        vertical-align: top;\n",
       "    }\n",
       "\n",
       "    .dataframe thead th {\n",
       "        text-align: right;\n",
       "    }\n",
       "</style>\n",
       "<table border=\"1\" class=\"dataframe\">\n",
       "  <thead>\n",
       "    <tr style=\"text-align: right;\">\n",
       "      <th></th>\n",
       "      <th>index</th>\n",
       "      <th>id</th>\n",
       "      <th>active</th>\n",
       "      <th>created_at</th>\n",
       "      <th>created_by</th>\n",
       "      <th>deleted</th>\n",
       "      <th>last_modified_by</th>\n",
       "      <th>modified_at</th>\n",
       "      <th>age</th>\n",
       "      <th>annual_household_income</th>\n",
       "      <th>...</th>\n",
       "      <th>highest_educational_passout_year</th>\n",
       "      <th>is_migrant</th>\n",
       "      <th>referance_image_url</th>\n",
       "      <th>referance_image_url_name</th>\n",
       "      <th>user_entity_id</th>\n",
       "      <th>ftp_imported_user</th>\n",
       "      <th>diploma_passout_year</th>\n",
       "      <th>diploma_school_name</th>\n",
       "      <th>hsc_passout_year</th>\n",
       "      <th>hsc_school_name</th>\n",
       "    </tr>\n",
       "  </thead>\n",
       "  <tbody>\n",
       "    <tr>\n",
       "      <th>0</th>\n",
       "      <td>0</td>\n",
       "      <td>8a8b803a7cbdbb65017cbe19cb4f0770</td>\n",
       "      <td>1</td>\n",
       "      <td>1635276933967</td>\n",
       "      <td>089f5038-e0b5-4f6b-8401-9f9217a2341c</td>\n",
       "      <td>0</td>\n",
       "      <td>None</td>\n",
       "      <td>1635276933967</td>\n",
       "      <td>None</td>\n",
       "      <td>None</td>\n",
       "      <td>...</td>\n",
       "      <td>0.0</td>\n",
       "      <td>None</td>\n",
       "      <td>None</td>\n",
       "      <td>None</td>\n",
       "      <td>None</td>\n",
       "      <td>None</td>\n",
       "      <td>0.0</td>\n",
       "      <td>None</td>\n",
       "      <td>0.0</td>\n",
       "      <td>None</td>\n",
       "    </tr>\n",
       "    <tr>\n",
       "      <th>1</th>\n",
       "      <td>1</td>\n",
       "      <td>8a8b803a7cbdbb65017cbe19ce1b0774</td>\n",
       "      <td>1</td>\n",
       "      <td>1635276934683</td>\n",
       "      <td>089f5038-e0b5-4f6b-8401-9f9217a2341c</td>\n",
       "      <td>0</td>\n",
       "      <td>None</td>\n",
       "      <td>1635276934683</td>\n",
       "      <td>None</td>\n",
       "      <td>None</td>\n",
       "      <td>...</td>\n",
       "      <td>0.0</td>\n",
       "      <td>None</td>\n",
       "      <td>None</td>\n",
       "      <td>None</td>\n",
       "      <td>None</td>\n",
       "      <td>None</td>\n",
       "      <td>0.0</td>\n",
       "      <td>None</td>\n",
       "      <td>0.0</td>\n",
       "      <td>None</td>\n",
       "    </tr>\n",
       "    <tr>\n",
       "      <th>2</th>\n",
       "      <td>2</td>\n",
       "      <td>8a8b803a7cbdbb65017cbe19d0e60778</td>\n",
       "      <td>1</td>\n",
       "      <td>1635276935398</td>\n",
       "      <td>089f5038-e0b5-4f6b-8401-9f9217a2341c</td>\n",
       "      <td>0</td>\n",
       "      <td>None</td>\n",
       "      <td>1635276935398</td>\n",
       "      <td>None</td>\n",
       "      <td>None</td>\n",
       "      <td>...</td>\n",
       "      <td>0.0</td>\n",
       "      <td>None</td>\n",
       "      <td>None</td>\n",
       "      <td>None</td>\n",
       "      <td>None</td>\n",
       "      <td>None</td>\n",
       "      <td>0.0</td>\n",
       "      <td>None</td>\n",
       "      <td>0.0</td>\n",
       "      <td>None</td>\n",
       "    </tr>\n",
       "    <tr>\n",
       "      <th>3</th>\n",
       "      <td>3</td>\n",
       "      <td>8a8b803a7cbdbb65017cbe19d3b0077c</td>\n",
       "      <td>1</td>\n",
       "      <td>1635276936111</td>\n",
       "      <td>089f5038-e0b5-4f6b-8401-9f9217a2341c</td>\n",
       "      <td>0</td>\n",
       "      <td>None</td>\n",
       "      <td>1635276936111</td>\n",
       "      <td>None</td>\n",
       "      <td>None</td>\n",
       "      <td>...</td>\n",
       "      <td>0.0</td>\n",
       "      <td>None</td>\n",
       "      <td>None</td>\n",
       "      <td>None</td>\n",
       "      <td>None</td>\n",
       "      <td>None</td>\n",
       "      <td>0.0</td>\n",
       "      <td>None</td>\n",
       "      <td>0.0</td>\n",
       "      <td>None</td>\n",
       "    </tr>\n",
       "    <tr>\n",
       "      <th>4</th>\n",
       "      <td>4</td>\n",
       "      <td>8a8b803a7cbdbb65017cbe19d6790780</td>\n",
       "      <td>1</td>\n",
       "      <td>1635276936825</td>\n",
       "      <td>089f5038-e0b5-4f6b-8401-9f9217a2341c</td>\n",
       "      <td>0</td>\n",
       "      <td>None</td>\n",
       "      <td>1635276936825</td>\n",
       "      <td>None</td>\n",
       "      <td>None</td>\n",
       "      <td>...</td>\n",
       "      <td>0.0</td>\n",
       "      <td>None</td>\n",
       "      <td>None</td>\n",
       "      <td>None</td>\n",
       "      <td>None</td>\n",
       "      <td>None</td>\n",
       "      <td>0.0</td>\n",
       "      <td>None</td>\n",
       "      <td>0.0</td>\n",
       "      <td>None</td>\n",
       "    </tr>\n",
       "  </tbody>\n",
       "</table>\n",
       "<p>5 rows × 81 columns</p>\n",
       "</div>"
      ],
      "text/plain": [
       "   index                                id  active     created_at  \\\n",
       "0      0  8a8b803a7cbdbb65017cbe19cb4f0770       1  1635276933967   \n",
       "1      1  8a8b803a7cbdbb65017cbe19ce1b0774       1  1635276934683   \n",
       "2      2  8a8b803a7cbdbb65017cbe19d0e60778       1  1635276935398   \n",
       "3      3  8a8b803a7cbdbb65017cbe19d3b0077c       1  1635276936111   \n",
       "4      4  8a8b803a7cbdbb65017cbe19d6790780       1  1635276936825   \n",
       "\n",
       "                             created_by  deleted last_modified_by  \\\n",
       "0  089f5038-e0b5-4f6b-8401-9f9217a2341c        0             None   \n",
       "1  089f5038-e0b5-4f6b-8401-9f9217a2341c        0             None   \n",
       "2  089f5038-e0b5-4f6b-8401-9f9217a2341c        0             None   \n",
       "3  089f5038-e0b5-4f6b-8401-9f9217a2341c        0             None   \n",
       "4  089f5038-e0b5-4f6b-8401-9f9217a2341c        0             None   \n",
       "\n",
       "     modified_at   age annual_household_income  ...  \\\n",
       "0  1635276933967  None                    None  ...   \n",
       "1  1635276934683  None                    None  ...   \n",
       "2  1635276935398  None                    None  ...   \n",
       "3  1635276936111  None                    None  ...   \n",
       "4  1635276936825  None                    None  ...   \n",
       "\n",
       "  highest_educational_passout_year is_migrant referance_image_url  \\\n",
       "0                              0.0       None                None   \n",
       "1                              0.0       None                None   \n",
       "2                              0.0       None                None   \n",
       "3                              0.0       None                None   \n",
       "4                              0.0       None                None   \n",
       "\n",
       "  referance_image_url_name user_entity_id ftp_imported_user  \\\n",
       "0                     None           None              None   \n",
       "1                     None           None              None   \n",
       "2                     None           None              None   \n",
       "3                     None           None              None   \n",
       "4                     None           None              None   \n",
       "\n",
       "  diploma_passout_year diploma_school_name hsc_passout_year hsc_school_name  \n",
       "0                  0.0                None              0.0            None  \n",
       "1                  0.0                None              0.0            None  \n",
       "2                  0.0                None              0.0            None  \n",
       "3                  0.0                None              0.0            None  \n",
       "4                  0.0                None              0.0            None  \n",
       "\n",
       "[5 rows x 81 columns]"
      ]
     },
     "execution_count": 74,
     "metadata": {},
     "output_type": "execute_result"
    }
   ],
   "source": [
    "df"
   ]
  },
  {
   "cell_type": "code",
   "execution_count": 75,
   "metadata": {},
   "outputs": [
    {
     "data": {
      "text/html": [
       "<div>\n",
       "<style scoped>\n",
       "    .dataframe tbody tr th:only-of-type {\n",
       "        vertical-align: middle;\n",
       "    }\n",
       "\n",
       "    .dataframe tbody tr th {\n",
       "        vertical-align: top;\n",
       "    }\n",
       "\n",
       "    .dataframe thead th {\n",
       "        text-align: right;\n",
       "    }\n",
       "</style>\n",
       "<table border=\"1\" class=\"dataframe\">\n",
       "  <thead>\n",
       "    <tr style=\"text-align: right;\">\n",
       "      <th></th>\n",
       "      <th>0</th>\n",
       "      <th>1</th>\n",
       "      <th>2</th>\n",
       "      <th>3</th>\n",
       "      <th>4</th>\n",
       "    </tr>\n",
       "  </thead>\n",
       "  <tbody>\n",
       "    <tr>\n",
       "      <th>index</th>\n",
       "      <td>0</td>\n",
       "      <td>1</td>\n",
       "      <td>2</td>\n",
       "      <td>3</td>\n",
       "      <td>4</td>\n",
       "    </tr>\n",
       "    <tr>\n",
       "      <th>id</th>\n",
       "      <td>8a8b803a7cbdbb65017cbe19cb4f0770</td>\n",
       "      <td>8a8b803a7cbdbb65017cbe19ce1b0774</td>\n",
       "      <td>8a8b803a7cbdbb65017cbe19d0e60778</td>\n",
       "      <td>8a8b803a7cbdbb65017cbe19d3b0077c</td>\n",
       "      <td>8a8b803a7cbdbb65017cbe19d6790780</td>\n",
       "    </tr>\n",
       "    <tr>\n",
       "      <th>active</th>\n",
       "      <td>1</td>\n",
       "      <td>1</td>\n",
       "      <td>1</td>\n",
       "      <td>1</td>\n",
       "      <td>1</td>\n",
       "    </tr>\n",
       "    <tr>\n",
       "      <th>created_at</th>\n",
       "      <td>1635276933967</td>\n",
       "      <td>1635276934683</td>\n",
       "      <td>1635276935398</td>\n",
       "      <td>1635276936111</td>\n",
       "      <td>1635276936825</td>\n",
       "    </tr>\n",
       "    <tr>\n",
       "      <th>created_by</th>\n",
       "      <td>089f5038-e0b5-4f6b-8401-9f9217a2341c</td>\n",
       "      <td>089f5038-e0b5-4f6b-8401-9f9217a2341c</td>\n",
       "      <td>089f5038-e0b5-4f6b-8401-9f9217a2341c</td>\n",
       "      <td>089f5038-e0b5-4f6b-8401-9f9217a2341c</td>\n",
       "      <td>089f5038-e0b5-4f6b-8401-9f9217a2341c</td>\n",
       "    </tr>\n",
       "    <tr>\n",
       "      <th>...</th>\n",
       "      <td>...</td>\n",
       "      <td>...</td>\n",
       "      <td>...</td>\n",
       "      <td>...</td>\n",
       "      <td>...</td>\n",
       "    </tr>\n",
       "    <tr>\n",
       "      <th>ftp_imported_user</th>\n",
       "      <td>None</td>\n",
       "      <td>None</td>\n",
       "      <td>None</td>\n",
       "      <td>None</td>\n",
       "      <td>None</td>\n",
       "    </tr>\n",
       "    <tr>\n",
       "      <th>diploma_passout_year</th>\n",
       "      <td>0.0</td>\n",
       "      <td>0.0</td>\n",
       "      <td>0.0</td>\n",
       "      <td>0.0</td>\n",
       "      <td>0.0</td>\n",
       "    </tr>\n",
       "    <tr>\n",
       "      <th>diploma_school_name</th>\n",
       "      <td>None</td>\n",
       "      <td>None</td>\n",
       "      <td>None</td>\n",
       "      <td>None</td>\n",
       "      <td>None</td>\n",
       "    </tr>\n",
       "    <tr>\n",
       "      <th>hsc_passout_year</th>\n",
       "      <td>0.0</td>\n",
       "      <td>0.0</td>\n",
       "      <td>0.0</td>\n",
       "      <td>0.0</td>\n",
       "      <td>0.0</td>\n",
       "    </tr>\n",
       "    <tr>\n",
       "      <th>hsc_school_name</th>\n",
       "      <td>None</td>\n",
       "      <td>None</td>\n",
       "      <td>None</td>\n",
       "      <td>None</td>\n",
       "      <td>None</td>\n",
       "    </tr>\n",
       "  </tbody>\n",
       "</table>\n",
       "<p>81 rows × 5 columns</p>\n",
       "</div>"
      ],
      "text/plain": [
       "                                                         0  \\\n",
       "index                                                    0   \n",
       "id                        8a8b803a7cbdbb65017cbe19cb4f0770   \n",
       "active                                                   1   \n",
       "created_at                                   1635276933967   \n",
       "created_by            089f5038-e0b5-4f6b-8401-9f9217a2341c   \n",
       "...                                                    ...   \n",
       "ftp_imported_user                                     None   \n",
       "diploma_passout_year                                   0.0   \n",
       "diploma_school_name                                   None   \n",
       "hsc_passout_year                                       0.0   \n",
       "hsc_school_name                                       None   \n",
       "\n",
       "                                                         1  \\\n",
       "index                                                    1   \n",
       "id                        8a8b803a7cbdbb65017cbe19ce1b0774   \n",
       "active                                                   1   \n",
       "created_at                                   1635276934683   \n",
       "created_by            089f5038-e0b5-4f6b-8401-9f9217a2341c   \n",
       "...                                                    ...   \n",
       "ftp_imported_user                                     None   \n",
       "diploma_passout_year                                   0.0   \n",
       "diploma_school_name                                   None   \n",
       "hsc_passout_year                                       0.0   \n",
       "hsc_school_name                                       None   \n",
       "\n",
       "                                                         2  \\\n",
       "index                                                    2   \n",
       "id                        8a8b803a7cbdbb65017cbe19d0e60778   \n",
       "active                                                   1   \n",
       "created_at                                   1635276935398   \n",
       "created_by            089f5038-e0b5-4f6b-8401-9f9217a2341c   \n",
       "...                                                    ...   \n",
       "ftp_imported_user                                     None   \n",
       "diploma_passout_year                                   0.0   \n",
       "diploma_school_name                                   None   \n",
       "hsc_passout_year                                       0.0   \n",
       "hsc_school_name                                       None   \n",
       "\n",
       "                                                         3  \\\n",
       "index                                                    3   \n",
       "id                        8a8b803a7cbdbb65017cbe19d3b0077c   \n",
       "active                                                   1   \n",
       "created_at                                   1635276936111   \n",
       "created_by            089f5038-e0b5-4f6b-8401-9f9217a2341c   \n",
       "...                                                    ...   \n",
       "ftp_imported_user                                     None   \n",
       "diploma_passout_year                                   0.0   \n",
       "diploma_school_name                                   None   \n",
       "hsc_passout_year                                       0.0   \n",
       "hsc_school_name                                       None   \n",
       "\n",
       "                                                         4  \n",
       "index                                                    4  \n",
       "id                        8a8b803a7cbdbb65017cbe19d6790780  \n",
       "active                                                   1  \n",
       "created_at                                   1635276936825  \n",
       "created_by            089f5038-e0b5-4f6b-8401-9f9217a2341c  \n",
       "...                                                    ...  \n",
       "ftp_imported_user                                     None  \n",
       "diploma_passout_year                                   0.0  \n",
       "diploma_school_name                                   None  \n",
       "hsc_passout_year                                       0.0  \n",
       "hsc_school_name                                       None  \n",
       "\n",
       "[81 rows x 5 columns]"
      ]
     },
     "execution_count": 75,
     "metadata": {},
     "output_type": "execute_result"
    }
   ],
   "source": [
    "df.T"
   ]
  },
  {
   "cell_type": "code",
   "execution_count": null,
   "metadata": {},
   "outputs": [],
   "source": []
  },
  {
   "cell_type": "code",
   "execution_count": null,
   "metadata": {},
   "outputs": [],
   "source": []
  },
  {
   "cell_type": "code",
   "execution_count": null,
   "metadata": {},
   "outputs": [],
   "source": []
  },
  {
   "cell_type": "code",
   "execution_count": null,
   "metadata": {},
   "outputs": [],
   "source": []
  },
  {
   "cell_type": "code",
   "execution_count": null,
   "metadata": {},
   "outputs": [],
   "source": []
  },
  {
   "cell_type": "code",
   "execution_count": null,
   "metadata": {},
   "outputs": [],
   "source": []
  },
  {
   "cell_type": "code",
   "execution_count": null,
   "metadata": {},
   "outputs": [],
   "source": []
  },
  {
   "cell_type": "code",
   "execution_count": 45,
   "metadata": {},
   "outputs": [
    {
     "ename": "TypeError",
     "evalue": "document must be an instance of dict, bson.son.SON, bson.raw_bson.RawBSONDocument, or a type that inherits from collections.MutableMapping",
     "output_type": "error",
     "traceback": [
      "\u001b[1;31m---------------------------------------------------------------------------\u001b[0m",
      "\u001b[1;31mTypeError\u001b[0m                                 Traceback (most recent call last)",
      "\u001b[1;32m<ipython-input-45-b9f6eb16f5ca>\u001b[0m in \u001b[0;36m<module>\u001b[1;34m\u001b[0m\n\u001b[0;32m      1\u001b[0m \u001b[0mdictData\u001b[0m \u001b[1;33m=\u001b[0m \u001b[0mjson\u001b[0m\u001b[1;33m.\u001b[0m\u001b[0mloads\u001b[0m\u001b[1;33m(\u001b[0m\u001b[0mx\u001b[0m\u001b[1;33m)\u001b[0m\u001b[1;33m\u001b[0m\u001b[1;33m\u001b[0m\u001b[0m\n\u001b[1;32m----> 2\u001b[1;33m \u001b[0mres\u001b[0m \u001b[1;33m=\u001b[0m \u001b[0mmongoCollection\u001b[0m\u001b[1;33m.\u001b[0m\u001b[0minsert_many\u001b[0m\u001b[1;33m(\u001b[0m\u001b[0mdictData\u001b[0m\u001b[1;33m)\u001b[0m\u001b[1;33m\u001b[0m\u001b[1;33m\u001b[0m\u001b[0m\n\u001b[0m\u001b[0;32m      3\u001b[0m \u001b[0mprint\u001b[0m\u001b[1;33m(\u001b[0m\u001b[0mres\u001b[0m\u001b[1;33m.\u001b[0m\u001b[0minserted_ids\u001b[0m\u001b[1;33m)\u001b[0m\u001b[1;33m\u001b[0m\u001b[1;33m\u001b[0m\u001b[0m\n\u001b[0;32m      4\u001b[0m \u001b[1;31m# dictData\u001b[0m\u001b[1;33m\u001b[0m\u001b[1;33m\u001b[0m\u001b[1;33m\u001b[0m\u001b[0m\n",
      "\u001b[1;32mc:\\users\\adinath nikam\\appdata\\local\\programs\\python\\python38\\lib\\site-packages\\pymongo\\collection.py\u001b[0m in \u001b[0;36minsert_many\u001b[1;34m(self, documents, ordered, bypass_document_validation, session)\u001b[0m\n\u001b[0;32m    755\u001b[0m         \u001b[0mwrite_concern\u001b[0m \u001b[1;33m=\u001b[0m \u001b[0mself\u001b[0m\u001b[1;33m.\u001b[0m\u001b[0m_write_concern_for\u001b[0m\u001b[1;33m(\u001b[0m\u001b[0msession\u001b[0m\u001b[1;33m)\u001b[0m\u001b[1;33m\u001b[0m\u001b[1;33m\u001b[0m\u001b[0m\n\u001b[0;32m    756\u001b[0m         \u001b[0mblk\u001b[0m \u001b[1;33m=\u001b[0m \u001b[0m_Bulk\u001b[0m\u001b[1;33m(\u001b[0m\u001b[0mself\u001b[0m\u001b[1;33m,\u001b[0m \u001b[0mordered\u001b[0m\u001b[1;33m,\u001b[0m \u001b[0mbypass_document_validation\u001b[0m\u001b[1;33m)\u001b[0m\u001b[1;33m\u001b[0m\u001b[1;33m\u001b[0m\u001b[0m\n\u001b[1;32m--> 757\u001b[1;33m         \u001b[0mblk\u001b[0m\u001b[1;33m.\u001b[0m\u001b[0mops\u001b[0m \u001b[1;33m=\u001b[0m \u001b[1;33m[\u001b[0m\u001b[0mdoc\u001b[0m \u001b[1;32mfor\u001b[0m \u001b[0mdoc\u001b[0m \u001b[1;32min\u001b[0m \u001b[0mgen\u001b[0m\u001b[1;33m(\u001b[0m\u001b[1;33m)\u001b[0m\u001b[1;33m]\u001b[0m\u001b[1;33m\u001b[0m\u001b[1;33m\u001b[0m\u001b[0m\n\u001b[0m\u001b[0;32m    758\u001b[0m         \u001b[0mblk\u001b[0m\u001b[1;33m.\u001b[0m\u001b[0mexecute\u001b[0m\u001b[1;33m(\u001b[0m\u001b[0mwrite_concern\u001b[0m\u001b[1;33m,\u001b[0m \u001b[0msession\u001b[0m\u001b[1;33m=\u001b[0m\u001b[0msession\u001b[0m\u001b[1;33m)\u001b[0m\u001b[1;33m\u001b[0m\u001b[1;33m\u001b[0m\u001b[0m\n\u001b[0;32m    759\u001b[0m         \u001b[1;32mreturn\u001b[0m \u001b[0mInsertManyResult\u001b[0m\u001b[1;33m(\u001b[0m\u001b[0minserted_ids\u001b[0m\u001b[1;33m,\u001b[0m \u001b[0mwrite_concern\u001b[0m\u001b[1;33m.\u001b[0m\u001b[0macknowledged\u001b[0m\u001b[1;33m)\u001b[0m\u001b[1;33m\u001b[0m\u001b[1;33m\u001b[0m\u001b[0m\n",
      "\u001b[1;32mc:\\users\\adinath nikam\\appdata\\local\\programs\\python\\python38\\lib\\site-packages\\pymongo\\collection.py\u001b[0m in \u001b[0;36m<listcomp>\u001b[1;34m(.0)\u001b[0m\n\u001b[0;32m    755\u001b[0m         \u001b[0mwrite_concern\u001b[0m \u001b[1;33m=\u001b[0m \u001b[0mself\u001b[0m\u001b[1;33m.\u001b[0m\u001b[0m_write_concern_for\u001b[0m\u001b[1;33m(\u001b[0m\u001b[0msession\u001b[0m\u001b[1;33m)\u001b[0m\u001b[1;33m\u001b[0m\u001b[1;33m\u001b[0m\u001b[0m\n\u001b[0;32m    756\u001b[0m         \u001b[0mblk\u001b[0m \u001b[1;33m=\u001b[0m \u001b[0m_Bulk\u001b[0m\u001b[1;33m(\u001b[0m\u001b[0mself\u001b[0m\u001b[1;33m,\u001b[0m \u001b[0mordered\u001b[0m\u001b[1;33m,\u001b[0m \u001b[0mbypass_document_validation\u001b[0m\u001b[1;33m)\u001b[0m\u001b[1;33m\u001b[0m\u001b[1;33m\u001b[0m\u001b[0m\n\u001b[1;32m--> 757\u001b[1;33m         \u001b[0mblk\u001b[0m\u001b[1;33m.\u001b[0m\u001b[0mops\u001b[0m \u001b[1;33m=\u001b[0m \u001b[1;33m[\u001b[0m\u001b[0mdoc\u001b[0m \u001b[1;32mfor\u001b[0m \u001b[0mdoc\u001b[0m \u001b[1;32min\u001b[0m \u001b[0mgen\u001b[0m\u001b[1;33m(\u001b[0m\u001b[1;33m)\u001b[0m\u001b[1;33m]\u001b[0m\u001b[1;33m\u001b[0m\u001b[1;33m\u001b[0m\u001b[0m\n\u001b[0m\u001b[0;32m    758\u001b[0m         \u001b[0mblk\u001b[0m\u001b[1;33m.\u001b[0m\u001b[0mexecute\u001b[0m\u001b[1;33m(\u001b[0m\u001b[0mwrite_concern\u001b[0m\u001b[1;33m,\u001b[0m \u001b[0msession\u001b[0m\u001b[1;33m=\u001b[0m\u001b[0msession\u001b[0m\u001b[1;33m)\u001b[0m\u001b[1;33m\u001b[0m\u001b[1;33m\u001b[0m\u001b[0m\n\u001b[0;32m    759\u001b[0m         \u001b[1;32mreturn\u001b[0m \u001b[0mInsertManyResult\u001b[0m\u001b[1;33m(\u001b[0m\u001b[0minserted_ids\u001b[0m\u001b[1;33m,\u001b[0m \u001b[0mwrite_concern\u001b[0m\u001b[1;33m.\u001b[0m\u001b[0macknowledged\u001b[0m\u001b[1;33m)\u001b[0m\u001b[1;33m\u001b[0m\u001b[1;33m\u001b[0m\u001b[0m\n",
      "\u001b[1;32mc:\\users\\adinath nikam\\appdata\\local\\programs\\python\\python38\\lib\\site-packages\\pymongo\\collection.py\u001b[0m in \u001b[0;36mgen\u001b[1;34m()\u001b[0m\n\u001b[0;32m    746\u001b[0m             \u001b[1;34m\"\"\"A generator that validates documents and handles _ids.\"\"\"\u001b[0m\u001b[1;33m\u001b[0m\u001b[1;33m\u001b[0m\u001b[0m\n\u001b[0;32m    747\u001b[0m             \u001b[1;32mfor\u001b[0m \u001b[0mdocument\u001b[0m \u001b[1;32min\u001b[0m \u001b[0mdocuments\u001b[0m\u001b[1;33m:\u001b[0m\u001b[1;33m\u001b[0m\u001b[1;33m\u001b[0m\u001b[0m\n\u001b[1;32m--> 748\u001b[1;33m                 \u001b[0mcommon\u001b[0m\u001b[1;33m.\u001b[0m\u001b[0mvalidate_is_document_type\u001b[0m\u001b[1;33m(\u001b[0m\u001b[1;34m\"document\"\u001b[0m\u001b[1;33m,\u001b[0m \u001b[0mdocument\u001b[0m\u001b[1;33m)\u001b[0m\u001b[1;33m\u001b[0m\u001b[1;33m\u001b[0m\u001b[0m\n\u001b[0m\u001b[0;32m    749\u001b[0m                 \u001b[1;32mif\u001b[0m \u001b[1;32mnot\u001b[0m \u001b[0misinstance\u001b[0m\u001b[1;33m(\u001b[0m\u001b[0mdocument\u001b[0m\u001b[1;33m,\u001b[0m \u001b[0mRawBSONDocument\u001b[0m\u001b[1;33m)\u001b[0m\u001b[1;33m:\u001b[0m\u001b[1;33m\u001b[0m\u001b[1;33m\u001b[0m\u001b[0m\n\u001b[0;32m    750\u001b[0m                     \u001b[1;32mif\u001b[0m \u001b[1;34m\"_id\"\u001b[0m \u001b[1;32mnot\u001b[0m \u001b[1;32min\u001b[0m \u001b[0mdocument\u001b[0m\u001b[1;33m:\u001b[0m\u001b[1;33m\u001b[0m\u001b[1;33m\u001b[0m\u001b[0m\n",
      "\u001b[1;32mc:\\users\\adinath nikam\\appdata\\local\\programs\\python\\python38\\lib\\site-packages\\pymongo\\common.py\u001b[0m in \u001b[0;36mvalidate_is_document_type\u001b[1;34m(option, value)\u001b[0m\n\u001b[0;32m    478\u001b[0m     \u001b[1;34m\"\"\"Validate the type of method arguments that expect a MongoDB document.\"\"\"\u001b[0m\u001b[1;33m\u001b[0m\u001b[1;33m\u001b[0m\u001b[0m\n\u001b[0;32m    479\u001b[0m     \u001b[1;32mif\u001b[0m \u001b[1;32mnot\u001b[0m \u001b[0misinstance\u001b[0m\u001b[1;33m(\u001b[0m\u001b[0mvalue\u001b[0m\u001b[1;33m,\u001b[0m \u001b[1;33m(\u001b[0m\u001b[0mabc\u001b[0m\u001b[1;33m.\u001b[0m\u001b[0mMutableMapping\u001b[0m\u001b[1;33m,\u001b[0m \u001b[0mRawBSONDocument\u001b[0m\u001b[1;33m)\u001b[0m\u001b[1;33m)\u001b[0m\u001b[1;33m:\u001b[0m\u001b[1;33m\u001b[0m\u001b[1;33m\u001b[0m\u001b[0m\n\u001b[1;32m--> 480\u001b[1;33m         raise TypeError(\"%s must be an instance of dict, bson.son.SON, \"\n\u001b[0m\u001b[0;32m    481\u001b[0m                         \u001b[1;34m\"bson.raw_bson.RawBSONDocument, or \"\u001b[0m\u001b[1;33m\u001b[0m\u001b[1;33m\u001b[0m\u001b[0m\n\u001b[0;32m    482\u001b[0m                         \u001b[1;34m\"a type that inherits from \"\u001b[0m\u001b[1;33m\u001b[0m\u001b[1;33m\u001b[0m\u001b[0m\n",
      "\u001b[1;31mTypeError\u001b[0m: document must be an instance of dict, bson.son.SON, bson.raw_bson.RawBSONDocument, or a type that inherits from collections.MutableMapping"
     ]
    }
   ],
   "source": [
    "dictData = json.loads(x)\n",
    "res = mongoCollection.insert_many(dictData)\n",
    "print(res.inserted_ids)\n",
    "# dictData"
   ]
  },
  {
   "cell_type": "code",
   "execution_count": null,
   "metadata": {},
   "outputs": [],
   "source": []
  },
  {
   "cell_type": "code",
   "execution_count": null,
   "metadata": {},
   "outputs": [],
   "source": []
  },
  {
   "cell_type": "code",
   "execution_count": null,
   "metadata": {},
   "outputs": [],
   "source": []
  },
  {
   "cell_type": "code",
   "execution_count": null,
   "metadata": {},
   "outputs": [],
   "source": []
  },
  {
   "cell_type": "code",
   "execution_count": null,
   "metadata": {},
   "outputs": [],
   "source": []
  },
  {
   "cell_type": "code",
   "execution_count": null,
   "metadata": {},
   "outputs": [],
   "source": []
  },
  {
   "cell_type": "code",
   "execution_count": 115,
   "metadata": {},
   "outputs": [
    {
     "data": {
      "text/plain": [
       "{'index': {'0': 0},\n",
       " 'id': {'0': '8a8b803a7cbdbb65017cbe19cb4f0770'},\n",
       " 'active': {'0': 1},\n",
       " 'created_at': {'0': 1635276933967},\n",
       " 'created_by': {'0': '089f5038-e0b5-4f6b-8401-9f9217a2341c'},\n",
       " 'deleted': {'0': 0},\n",
       " 'last_modified_by': {'0': None},\n",
       " 'modified_at': {'0': 1635276933967},\n",
       " 'age': {'0': None},\n",
       " 'annual_household_income': {'0': None},\n",
       " 'bank_account_no': {'0': None},\n",
       " 'bank_name': {'0': None},\n",
       " 'beneficiary_reference_id': {'0': None},\n",
       " 'branch_name': {'0': None},\n",
       " 'college_name': {'0': None},\n",
       " 'college_passout_year': {'0': None},\n",
       " 'consented': {'0': None},\n",
       " 'digital_signature_url': {'0': None},\n",
       " 'dob': {'0': 274752000000},\n",
       " 'driving_licence_expiry_date': {'0': None},\n",
       " 'driving_licence_issued_on': {'0': None},\n",
       " 'driving_licence_no': {'0': None},\n",
       " 'driving_licence_type': {'0': None},\n",
       " 'email': {'0': None},\n",
       " 'field_agent_id': {'0': '089f5038-e0b5-4f6b-8401-9f9217a2341c'},\n",
       " 'first_name': {'0': 'GOVIND ISHWAR PARMAR'},\n",
       " 'gender': {'0': 'Male'},\n",
       " 'highest_educational_qualification': {'0': None},\n",
       " 'id_image_url': {'0': None},\n",
       " 'ifsc_code': {'0': None},\n",
       " 'income_currency': {'0': None},\n",
       " 'income_source': {'0': None},\n",
       " 'jan_dhan_account_no': {'0': None},\n",
       " 'landline': {'0': None},\n",
       " 'last_name': {'0': None},\n",
       " 'marital_status': {'0': None},\n",
       " 'middle_name': {'0': None},\n",
       " 'mnrega_card_no': {'0': None},\n",
       " 'mobile': {'0': '7208301189'},\n",
       " 'monthly_income': {'0': None},\n",
       " 'no_of_family_members': {'0': None},\n",
       " 'other_image_url': {'0': None},\n",
       " 'pancard': {'0': None},\n",
       " 'passport_expiry_date': {'0': None},\n",
       " 'passport_issued_on': {'0': None},\n",
       " 'passport_no': {'0': None},\n",
       " 'project_id': {'0': '8a8b803a7c6e1a8c017c98dce2f40012'},\n",
       " 'ration_card_no': {'0': None},\n",
       " 'ration_card_type': {'0': None},\n",
       " 'school_name': {'0': None},\n",
       " 'school_passout_year': {'0': None},\n",
       " 'self_image_url': {'0': None},\n",
       " 'terms_and_conditions': {'0': None},\n",
       " 'voter_id': {'0': None},\n",
       " 'educational_status': {'0': None},\n",
       " 'language_id': {'0': None},\n",
       " 'primary_occupation': {'0': None},\n",
       " 'secondary_occupation': {'0': None},\n",
       " 'synced_at': {'0': 1646377239000},\n",
       " 'digital_signature_url_name': {'0': None},\n",
       " 'id_image_url_name': {'0': None},\n",
       " 'other_image_url_name': {'0': None},\n",
       " 'self_image_url_name': {'0': None},\n",
       " 'id_card_number': {'0': None},\n",
       " 'is_verified': {'0': None},\n",
       " 'delete_request': {'0': 'NONE'},\n",
       " 'migrant': {'0': 'NON_MIGRANT'},\n",
       " 'mobile_type': {'0': None},\n",
       " 'secondary_mobile': {'0': None},\n",
       " 'secondary_mobile_type': {'0': None},\n",
       " 'monthly_income_range_id': {'0': None},\n",
       " 'highest_educational_passout_year': {'0': 0.0},\n",
       " 'is_migrant': {'0': None},\n",
       " 'referance_image_url': {'0': None},\n",
       " 'referance_image_url_name': {'0': None},\n",
       " 'user_entity_id': {'0': None},\n",
       " 'ftp_imported_user': {'0': None},\n",
       " 'diploma_passout_year': {'0': 0.0},\n",
       " 'diploma_school_name': {'0': None},\n",
       " 'hsc_passout_year': {'0': 0.0},\n",
       " 'hsc_school_name': {'0': None}}"
      ]
     },
     "execution_count": 115,
     "metadata": {},
     "output_type": "execute_result"
    }
   ],
   "source": [
    "json.loads(x)"
   ]
  },
  {
   "cell_type": "code",
   "execution_count": 86,
   "metadata": {},
   "outputs": [
    {
     "data": {
      "text/plain": [
       "pymongo.results.InsertManyResult"
      ]
     },
     "execution_count": 86,
     "metadata": {},
     "output_type": "execute_result"
    }
   ],
   "source": [
    "type(res)"
   ]
  },
  {
   "cell_type": "code",
   "execution_count": 125,
   "metadata": {},
   "outputs": [],
   "source": [
    "dd = {\"x\": [8,7,6,]}"
   ]
  },
  {
   "cell_type": "code",
   "execution_count": 126,
   "metadata": {},
   "outputs": [],
   "source": [
    "import pandas as pd"
   ]
  },
  {
   "cell_type": "code",
   "execution_count": 127,
   "metadata": {},
   "outputs": [
    {
     "data": {
      "text/html": [
       "<div>\n",
       "<style scoped>\n",
       "    .dataframe tbody tr th:only-of-type {\n",
       "        vertical-align: middle;\n",
       "    }\n",
       "\n",
       "    .dataframe tbody tr th {\n",
       "        vertical-align: top;\n",
       "    }\n",
       "\n",
       "    .dataframe thead th {\n",
       "        text-align: right;\n",
       "    }\n",
       "</style>\n",
       "<table border=\"1\" class=\"dataframe\">\n",
       "  <thead>\n",
       "    <tr style=\"text-align: right;\">\n",
       "      <th></th>\n",
       "      <th>x</th>\n",
       "    </tr>\n",
       "  </thead>\n",
       "  <tbody>\n",
       "    <tr>\n",
       "      <th>0</th>\n",
       "      <td>8</td>\n",
       "    </tr>\n",
       "    <tr>\n",
       "      <th>1</th>\n",
       "      <td>7</td>\n",
       "    </tr>\n",
       "    <tr>\n",
       "      <th>2</th>\n",
       "      <td>6</td>\n",
       "    </tr>\n",
       "  </tbody>\n",
       "</table>\n",
       "</div>"
      ],
      "text/plain": [
       "   x\n",
       "0  8\n",
       "1  7\n",
       "2  6"
      ]
     },
     "execution_count": 127,
     "metadata": {},
     "output_type": "execute_result"
    }
   ],
   "source": [
    "pd.DataFrame(dd)"
   ]
  },
  {
   "cell_type": "code",
   "execution_count": null,
   "metadata": {},
   "outputs": [],
   "source": []
  },
  {
   "cell_type": "code",
   "execution_count": null,
   "metadata": {},
   "outputs": [],
   "source": []
  },
  {
   "cell_type": "code",
   "execution_count": null,
   "metadata": {},
   "outputs": [],
   "source": []
  }
 ],
 "metadata": {
  "kernelspec": {
   "display_name": "Python 3",
   "language": "python",
   "name": "python3"
  },
  "language_info": {
   "codemirror_mode": {
    "name": "ipython",
    "version": 3
   },
   "file_extension": ".py",
   "mimetype": "text/x-python",
   "name": "python",
   "nbconvert_exporter": "python",
   "pygments_lexer": "ipython3",
   "version": "3.8.3rc1"
  }
 },
 "nbformat": 4,
 "nbformat_minor": 4
}
